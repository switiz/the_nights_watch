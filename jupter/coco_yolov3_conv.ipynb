{
 "cells": [
  {
   "cell_type": "code",
   "execution_count": 1,
   "metadata": {
    "pycharm": {
     "name": "#%%\n"
    }
   },
   "outputs": [],
   "source": [
    "Tag = 'coco_yolo_txt'\n",
    "\n",
    "'''\n",
    "colab check\n",
    "'''\n",
    "try:\n",
    "    import google.colab\n",
    "\n",
    "    IN_COLAB = True\n",
    "except:\n",
    "    IN_COLAB = False\n",
    "\n",
    "if IN_COLAB:\n",
    "    pass\n",
    "else:\n",
    "    pass\n",
    "from jupter.notebook_utils import *"
   ]
  },
  {
   "cell_type": "code",
   "execution_count": 2,
   "outputs": [
    {
     "name": "stdout",
     "output_type": "stream",
     "text": [
      "loading annotations into memory...\n",
      "Done (t=11.19s)\n",
      "creating index...\n",
      "index created!\n",
      "split train :  18940  val: 997\n",
      "write_path_file\n",
      "./yolov3\\train_sd.txt\n",
      "write done\n"
     ]
    },
    {
     "name": "stderr",
     "output_type": "stream",
     "text": [
      "100%|██████████| 665932/665932 [00:06<00:00, 106124.63it/s]\n",
      "100%|██████████| 19937/19937 [00:10<00:00, 1964.82it/s]\n"
     ]
    }
   ],
   "source": [
    "\"\"\"parameters\"\"\"\n",
    "images_dir_path, json_file_path = check_dir('local_c')\n",
    "label_print = False\n",
    "#    output_paths = ['train_sd.txt', 'train_so.txt', 'train_md.txt', 'train_mo.txt']\n",
    "#    cat_types = ['Single_Default', 'Single_Other', 'Multiple_Categories', 'Multiple_Other']\n",
    "output_paths = ['sd.txt']\n",
    "cat_types = ['Single_Default']\n",
    "\n",
    "\"\"\"load json file\"\"\"\n",
    "coco = COCO(json_file_path)\n",
    "name_box_id = dict()\n",
    "with open(json_file_path, encoding='utf-8') as f:\n",
    "    data = json.load(f)\n",
    "\"\"\"generate labels\"\"\"\n",
    "annotations = data['annotations']\n",
    "\n",
    "location = './yolov3'\n",
    "for output in output_paths:\n",
    "    if label_print :\n",
    "        name_box_id = make_label(cat_types, images_dir_path, coco, annotations)\n",
    "        label_print_to_img(name_box_id)\n",
    "    else:\n",
    "        name_box_id = make_coco_to_yolo(cat_types, images_dir_path, coco, annotations, True)\n",
    "        train, val = train_val_split(name_box_id)\n",
    "        write_anno_file(name_box_id)\n",
    "        write_path_file(train, val, output, location)"
   ],
   "metadata": {
    "collapsed": false,
    "pycharm": {
     "name": "#%%\n"
    }
   }
  },
  {
   "cell_type": "code",
   "execution_count": 3,
   "outputs": [
    {
     "data": {
      "text/plain": "'E:/Project/coco_rapiscan_change.json'"
     },
     "execution_count": 3,
     "metadata": {},
     "output_type": "execute_result"
    }
   ],
   "source": [
    "json_file_path"
   ],
   "metadata": {
    "collapsed": false,
    "pycharm": {
     "name": "#%%\n"
    }
   }
  },
  {
   "cell_type": "code",
   "execution_count": null,
   "outputs": [],
   "source": [],
   "metadata": {
    "collapsed": false,
    "pycharm": {
     "name": "#%%\n"
    }
   }
  }
 ],
 "metadata": {
  "kernelspec": {
   "name": "pycharm-5b874bc4",
   "language": "python",
   "display_name": "PyCharm (TFExams)"
  },
  "language_info": {
   "codemirror_mode": {
    "name": "ipython",
    "version": 3
   },
   "file_extension": ".py",
   "mimetype": "text/x-python",
   "name": "python",
   "nbconvert_exporter": "python",
   "pygments_lexer": "ipython3",
   "version": "3.8.5"
  }
 },
 "nbformat": 4,
 "nbformat_minor": 1
}