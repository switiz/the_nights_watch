{
 "cells": [
  {
   "cell_type": "code",
   "execution_count": 8,
   "metadata": {
    "collapsed": true
   },
   "outputs": [
    {
     "name": "stdout",
     "output_type": "stream",
     "text": [
      "add word: NailClippers\n",
      "add word: GunParts\n",
      "add word: Hammer\n",
      "add word: Bullet\n",
      "add word: Gun\n",
      "add word: Alcohol\n",
      "add word: Scissors\n",
      "add word: Awl\n",
      "add word: SupplymentaryBattery\n",
      "add word: Thinner\n",
      "add word: SmartPhone\n",
      "add word: Lighter\n",
      "add word: Axe\n",
      "add word: Spanner\n",
      "add word: TabletPC\n",
      "add word: Saw\n",
      "add word: Screwdriver\n",
      "add word: USB\n",
      "add word: Liquid\n",
      "add word: Chisel\n",
      "add word: Plier\n",
      "add word: Knife\n",
      "add word: Firecracker\n",
      "add word: Throwing Knife\n",
      "add word: PortableGas\n",
      "add word: Match\n",
      "add word: LapTop\n",
      "add word: Bat\n",
      "add word: Electronic cigarettes(Liquid)\n",
      "add word: MetalPipe\n",
      "add word: SolidFuel\n",
      "add word: Aerosol\n",
      "add word: Electronic cigarettes\n",
      "add word: ZippoOil\n",
      "add word: SSD\n",
      "add word: HandCuffs\n",
      "add word: HDD\n",
      "add word: Battery\n",
      "add word: Gun\n",
      "add word: Firecracker\n",
      "add word: Thinner\n",
      "add word: USB\n",
      "add word: Spanner\n",
      "add word: Lighter\n",
      "add word: Knife\n",
      "add word: SupplymentaryBattery\n",
      "add word: Chisel\n",
      "add word: Plier\n",
      "add word: HDD\n",
      "add word: Awl\n",
      "add word: MetalPipe\n",
      "add word: Bat\n",
      "add word: Hammer\n",
      "add word: TabletPC\n",
      "add word: Saw\n",
      "add word: Axe\n",
      "add word: NailClippers\n",
      "add word: Scissors\n",
      "add word: SSD\n",
      "add word: Electronic cigarettes(Liquid)\n",
      "add word: LapTop\n",
      "add word: Screwdriver\n",
      "add word: Aerosol\n",
      "add word: ZippoOil\n",
      "add word: GunParts\n",
      "add word: Liquid\n",
      "add word: Match\n",
      "add word: Throwing Knife\n",
      "add word: SmartPhone\n",
      "add word: Bullet\n",
      "add word: Electronic cigarettes\n",
      "add word: SolidFuel\n",
      "add word: PortableGas\n",
      "add word: Alcohol\n",
      "add word: HandCuffs\n",
      "add word: Battery\n"
     ]
    }
   ],
   "source": [
    "TRAIN_PATH = '../data/custom/train_sd.txt'\n",
    "VAL_PATH = '../data/custom/val_sd.txt'\n",
    "DATA_PATH = 'C:/Local/Train/Data'\n",
    "\n",
    "train_category = {}\n",
    "val_category = {}\n",
    "label = ['Aerosol','Alcohol','Awl','Axe','Bat','Battery','Bullet','Firecracker',\n",
    "        'Gun','GunParts','Hammer','HandCuffs','HDD','Knife','LapTop','Lighter',\n",
    "        'Liquid','Match','MetalPipe','NailClippers','PortableGas','Saw','Scissors',\n",
    "        'Screwdriver','SmartPhone','SolidFuel','Spanner','SSD','SupplymentaryBattery',\n",
    "        'TabletPC','Thinner','USB','ZippoOil','Plier','Chisel','Electronic cigarettes',\n",
    "        'Electronic cigarettes(Liquid)','stun gun','Throwing Knife']\n",
    "\n",
    "with open(TRAIN_PATH, 'r') as train:\n",
    "    line = train.readlines()\n",
    "    for sequence in line:\n",
    "        for word in sequence.split('/'):\n",
    "            if word in label:\n",
    "                if word in train_category.keys():\n",
    "                    train_category[word] +=1\n",
    "                else:\n",
    "                    print('add word: {}'.format(word))\n",
    "                    train_category[word] = 1\n",
    "\n",
    "with open(VAL_PATH, 'r') as train:\n",
    "    line = train.readlines()\n",
    "    for sequence in line:\n",
    "        for word in sequence.split('/'):\n",
    "            if word in label:\n",
    "                if word in val_category.keys():\n",
    "                    val_category[word] +=1\n",
    "                else:\n",
    "                    print('add word: {}'.format(word))\n",
    "                    val_category[word] = 1"
   ]
  },
  {
   "cell_type": "code",
   "execution_count": 9,
   "outputs": [
    {
     "data": {
      "text/plain": "{'NailClippers': 375,\n 'GunParts': 750,\n 'Hammer': 600,\n 'Bullet': 450,\n 'Gun': 600,\n 'Alcohol': 94,\n 'Scissors': 919,\n 'Awl': 525,\n 'SupplymentaryBattery': 562,\n 'Thinner': 94,\n 'SmartPhone': 281,\n 'Lighter': 750,\n 'Axe': 600,\n 'Spanner': 562,\n 'TabletPC': 187,\n 'Saw': 919,\n 'Screwdriver': 562,\n 'USB': 375,\n 'Liquid': 469,\n 'Chisel': 656,\n 'Plier': 375,\n 'Knife': 919,\n 'Firecracker': 750,\n 'Throwing Knife': 94,\n 'PortableGas': 262,\n 'Match': 187,\n 'LapTop': 375,\n 'Bat': 187,\n 'Electronic cigarettes(Liquid)': 188,\n 'MetalPipe': 469,\n 'SolidFuel': 187,\n 'Aerosol': 262,\n 'Electronic cigarettes': 188,\n 'ZippoOil': 94,\n 'SSD': 188,\n 'HandCuffs': 94,\n 'HDD': 94,\n 'Battery': 94}"
     },
     "execution_count": 9,
     "metadata": {},
     "output_type": "execute_result"
    }
   ],
   "source": [
    "train_category"
   ],
   "metadata": {
    "collapsed": false,
    "pycharm": {
     "name": "#%%\n"
    }
   }
  },
  {
   "cell_type": "code",
   "execution_count": 10,
   "outputs": [],
   "source": [
    "import pandas as pd\n",
    "pd_train = pd.DataFrame.from_dict(train_category, 'index')\n",
    "pd_val = pd.DataFrame.from_dict(val_category, 'index')\n",
    "pd_train.sort_index(inplace=True)\n",
    "pd_val.sort_index(inplace=True)"
   ],
   "metadata": {
    "collapsed": false,
    "pycharm": {
     "name": "#%%\n"
    }
   }
  },
  {
   "cell_type": "code",
   "execution_count": 11,
   "outputs": [
    {
     "data": {
      "text/plain": "                                 0\nAerosol                        262\nAlcohol                         94\nAwl                            525\nAxe                            600\nBat                            187\nBattery                         94\nBullet                         450\nChisel                         656\nElectronic cigarettes          188\nElectronic cigarettes(Liquid)  188\nFirecracker                    750\nGun                            600\nGunParts                       750\nHDD                             94\nHammer                         600\nHandCuffs                       94\nKnife                          919\nLapTop                         375\nLighter                        750\nLiquid                         469\nMatch                          187\nMetalPipe                      469\nNailClippers                   375\nPlier                          375\nPortableGas                    262\nSSD                            188\nSaw                            919\nScissors                       919\nScrewdriver                    562\nSmartPhone                     281\nSolidFuel                      187\nSpanner                        562\nSupplymentaryBattery           562\nTabletPC                       187\nThinner                         94\nThrowing Knife                  94\nUSB                            375\nZippoOil                        94",
      "text/html": "<div>\n<style scoped>\n    .dataframe tbody tr th:only-of-type {\n        vertical-align: middle;\n    }\n\n    .dataframe tbody tr th {\n        vertical-align: top;\n    }\n\n    .dataframe thead th {\n        text-align: right;\n    }\n</style>\n<table border=\"1\" class=\"dataframe\">\n  <thead>\n    <tr style=\"text-align: right;\">\n      <th></th>\n      <th>0</th>\n    </tr>\n  </thead>\n  <tbody>\n    <tr>\n      <th>Aerosol</th>\n      <td>262</td>\n    </tr>\n    <tr>\n      <th>Alcohol</th>\n      <td>94</td>\n    </tr>\n    <tr>\n      <th>Awl</th>\n      <td>525</td>\n    </tr>\n    <tr>\n      <th>Axe</th>\n      <td>600</td>\n    </tr>\n    <tr>\n      <th>Bat</th>\n      <td>187</td>\n    </tr>\n    <tr>\n      <th>Battery</th>\n      <td>94</td>\n    </tr>\n    <tr>\n      <th>Bullet</th>\n      <td>450</td>\n    </tr>\n    <tr>\n      <th>Chisel</th>\n      <td>656</td>\n    </tr>\n    <tr>\n      <th>Electronic cigarettes</th>\n      <td>188</td>\n    </tr>\n    <tr>\n      <th>Electronic cigarettes(Liquid)</th>\n      <td>188</td>\n    </tr>\n    <tr>\n      <th>Firecracker</th>\n      <td>750</td>\n    </tr>\n    <tr>\n      <th>Gun</th>\n      <td>600</td>\n    </tr>\n    <tr>\n      <th>GunParts</th>\n      <td>750</td>\n    </tr>\n    <tr>\n      <th>HDD</th>\n      <td>94</td>\n    </tr>\n    <tr>\n      <th>Hammer</th>\n      <td>600</td>\n    </tr>\n    <tr>\n      <th>HandCuffs</th>\n      <td>94</td>\n    </tr>\n    <tr>\n      <th>Knife</th>\n      <td>919</td>\n    </tr>\n    <tr>\n      <th>LapTop</th>\n      <td>375</td>\n    </tr>\n    <tr>\n      <th>Lighter</th>\n      <td>750</td>\n    </tr>\n    <tr>\n      <th>Liquid</th>\n      <td>469</td>\n    </tr>\n    <tr>\n      <th>Match</th>\n      <td>187</td>\n    </tr>\n    <tr>\n      <th>MetalPipe</th>\n      <td>469</td>\n    </tr>\n    <tr>\n      <th>NailClippers</th>\n      <td>375</td>\n    </tr>\n    <tr>\n      <th>Plier</th>\n      <td>375</td>\n    </tr>\n    <tr>\n      <th>PortableGas</th>\n      <td>262</td>\n    </tr>\n    <tr>\n      <th>SSD</th>\n      <td>188</td>\n    </tr>\n    <tr>\n      <th>Saw</th>\n      <td>919</td>\n    </tr>\n    <tr>\n      <th>Scissors</th>\n      <td>919</td>\n    </tr>\n    <tr>\n      <th>Screwdriver</th>\n      <td>562</td>\n    </tr>\n    <tr>\n      <th>SmartPhone</th>\n      <td>281</td>\n    </tr>\n    <tr>\n      <th>SolidFuel</th>\n      <td>187</td>\n    </tr>\n    <tr>\n      <th>Spanner</th>\n      <td>562</td>\n    </tr>\n    <tr>\n      <th>SupplymentaryBattery</th>\n      <td>562</td>\n    </tr>\n    <tr>\n      <th>TabletPC</th>\n      <td>187</td>\n    </tr>\n    <tr>\n      <th>Thinner</th>\n      <td>94</td>\n    </tr>\n    <tr>\n      <th>Throwing Knife</th>\n      <td>94</td>\n    </tr>\n    <tr>\n      <th>USB</th>\n      <td>375</td>\n    </tr>\n    <tr>\n      <th>ZippoOil</th>\n      <td>94</td>\n    </tr>\n  </tbody>\n</table>\n</div>"
     },
     "execution_count": 11,
     "metadata": {},
     "output_type": "execute_result"
    }
   ],
   "source": [
    "pd_train"
   ],
   "metadata": {
    "collapsed": false,
    "pycharm": {
     "name": "#%%\n"
    }
   }
  },
  {
   "cell_type": "code",
   "execution_count": 12,
   "outputs": [
    {
     "data": {
      "text/plain": "                                 0\nAerosol                         88\nAlcohol                         31\nAwl                            175\nAxe                            200\nBat                             63\nBattery                         31\nBullet                         150\nChisel                         219\nElectronic cigarettes           62\nElectronic cigarettes(Liquid)   62\nFirecracker                    250\nGun                            200\nGunParts                       250\nHDD                             31\nHammer                         200\nHandCuffs                       31\nKnife                          306\nLapTop                         125\nLighter                        250\nLiquid                         156\nMatch                           63\nMetalPipe                      156\nNailClippers                   125\nPlier                          125\nPortableGas                     88\nSSD                             62\nSaw                            306\nScissors                       306\nScrewdriver                    188\nSmartPhone                      94\nSolidFuel                       63\nSpanner                        188\nSupplymentaryBattery           188\nTabletPC                        63\nThinner                         31\nThrowing Knife                  31\nUSB                            125\nZippoOil                        31",
      "text/html": "<div>\n<style scoped>\n    .dataframe tbody tr th:only-of-type {\n        vertical-align: middle;\n    }\n\n    .dataframe tbody tr th {\n        vertical-align: top;\n    }\n\n    .dataframe thead th {\n        text-align: right;\n    }\n</style>\n<table border=\"1\" class=\"dataframe\">\n  <thead>\n    <tr style=\"text-align: right;\">\n      <th></th>\n      <th>0</th>\n    </tr>\n  </thead>\n  <tbody>\n    <tr>\n      <th>Aerosol</th>\n      <td>88</td>\n    </tr>\n    <tr>\n      <th>Alcohol</th>\n      <td>31</td>\n    </tr>\n    <tr>\n      <th>Awl</th>\n      <td>175</td>\n    </tr>\n    <tr>\n      <th>Axe</th>\n      <td>200</td>\n    </tr>\n    <tr>\n      <th>Bat</th>\n      <td>63</td>\n    </tr>\n    <tr>\n      <th>Battery</th>\n      <td>31</td>\n    </tr>\n    <tr>\n      <th>Bullet</th>\n      <td>150</td>\n    </tr>\n    <tr>\n      <th>Chisel</th>\n      <td>219</td>\n    </tr>\n    <tr>\n      <th>Electronic cigarettes</th>\n      <td>62</td>\n    </tr>\n    <tr>\n      <th>Electronic cigarettes(Liquid)</th>\n      <td>62</td>\n    </tr>\n    <tr>\n      <th>Firecracker</th>\n      <td>250</td>\n    </tr>\n    <tr>\n      <th>Gun</th>\n      <td>200</td>\n    </tr>\n    <tr>\n      <th>GunParts</th>\n      <td>250</td>\n    </tr>\n    <tr>\n      <th>HDD</th>\n      <td>31</td>\n    </tr>\n    <tr>\n      <th>Hammer</th>\n      <td>200</td>\n    </tr>\n    <tr>\n      <th>HandCuffs</th>\n      <td>31</td>\n    </tr>\n    <tr>\n      <th>Knife</th>\n      <td>306</td>\n    </tr>\n    <tr>\n      <th>LapTop</th>\n      <td>125</td>\n    </tr>\n    <tr>\n      <th>Lighter</th>\n      <td>250</td>\n    </tr>\n    <tr>\n      <th>Liquid</th>\n      <td>156</td>\n    </tr>\n    <tr>\n      <th>Match</th>\n      <td>63</td>\n    </tr>\n    <tr>\n      <th>MetalPipe</th>\n      <td>156</td>\n    </tr>\n    <tr>\n      <th>NailClippers</th>\n      <td>125</td>\n    </tr>\n    <tr>\n      <th>Plier</th>\n      <td>125</td>\n    </tr>\n    <tr>\n      <th>PortableGas</th>\n      <td>88</td>\n    </tr>\n    <tr>\n      <th>SSD</th>\n      <td>62</td>\n    </tr>\n    <tr>\n      <th>Saw</th>\n      <td>306</td>\n    </tr>\n    <tr>\n      <th>Scissors</th>\n      <td>306</td>\n    </tr>\n    <tr>\n      <th>Screwdriver</th>\n      <td>188</td>\n    </tr>\n    <tr>\n      <th>SmartPhone</th>\n      <td>94</td>\n    </tr>\n    <tr>\n      <th>SolidFuel</th>\n      <td>63</td>\n    </tr>\n    <tr>\n      <th>Spanner</th>\n      <td>188</td>\n    </tr>\n    <tr>\n      <th>SupplymentaryBattery</th>\n      <td>188</td>\n    </tr>\n    <tr>\n      <th>TabletPC</th>\n      <td>63</td>\n    </tr>\n    <tr>\n      <th>Thinner</th>\n      <td>31</td>\n    </tr>\n    <tr>\n      <th>Throwing Knife</th>\n      <td>31</td>\n    </tr>\n    <tr>\n      <th>USB</th>\n      <td>125</td>\n    </tr>\n    <tr>\n      <th>ZippoOil</th>\n      <td>31</td>\n    </tr>\n  </tbody>\n</table>\n</div>"
     },
     "execution_count": 12,
     "metadata": {},
     "output_type": "execute_result"
    }
   ],
   "source": [
    "pd_val"
   ],
   "metadata": {
    "collapsed": false,
    "pycharm": {
     "name": "#%%\n"
    }
   }
  },
  {
   "cell_type": "code",
   "execution_count": 58,
   "outputs": [],
   "source": [
    "CSV = '../data/custom/data.xlsx'\n",
    "pd_data = pd.read_excel(CSV, header=None)"
   ],
   "metadata": {
    "collapsed": false,
    "pycharm": {
     "name": "#%%\n"
    }
   }
  },
  {
   "cell_type": "code",
   "execution_count": 62,
   "outputs": [
    {
     "data": {
      "text/plain": "                                   1\n0                                   \nAerosol                        0.910\nAlcohol                        0.252\nAwl                            0.616\nAxe                            0.927\nBat                            0.538\nBattery                        0.544\nBullet                         0.563\nChisel                         0.831\nElectronic cigarettes          0.417\nElectronic cigarettes(Liquid)  0.362\nFirecracker                    0.686\nGun                            0.931\nGunParts                       0.811\nHDD                            0.955\nHammer                         0.927\nHandCuffs                      0.691\nKnife                          0.909\nLaptop                         0.938\nLighter                        0.847\nLiquid                         0.980\nMatch                          0.476\nMetalPipe                      0.885\nNailClippers                   0.784\nPlier                          0.815\nPrtableGas                     0.509\nSSD                            0.949\nSaw                            0.940\nScissors                       0.953\nScrewdriver                    0.651\nSmartPhone                     0.923\nSolidFuel                      0.661\nSpanner                        0.965\nSupplymentaryBattery           0.966\nTabletPC                       0.949\nThinner                        0.340\nThrowing Knife                 0.412\nUSB                            0.554\nZippoOil                       0.228",
      "text/html": "<div>\n<style scoped>\n    .dataframe tbody tr th:only-of-type {\n        vertical-align: middle;\n    }\n\n    .dataframe tbody tr th {\n        vertical-align: top;\n    }\n\n    .dataframe thead th {\n        text-align: right;\n    }\n</style>\n<table border=\"1\" class=\"dataframe\">\n  <thead>\n    <tr style=\"text-align: right;\">\n      <th></th>\n      <th>1</th>\n    </tr>\n    <tr>\n      <th>0</th>\n      <th></th>\n    </tr>\n  </thead>\n  <tbody>\n    <tr>\n      <th>Aerosol</th>\n      <td>0.910</td>\n    </tr>\n    <tr>\n      <th>Alcohol</th>\n      <td>0.252</td>\n    </tr>\n    <tr>\n      <th>Awl</th>\n      <td>0.616</td>\n    </tr>\n    <tr>\n      <th>Axe</th>\n      <td>0.927</td>\n    </tr>\n    <tr>\n      <th>Bat</th>\n      <td>0.538</td>\n    </tr>\n    <tr>\n      <th>Battery</th>\n      <td>0.544</td>\n    </tr>\n    <tr>\n      <th>Bullet</th>\n      <td>0.563</td>\n    </tr>\n    <tr>\n      <th>Chisel</th>\n      <td>0.831</td>\n    </tr>\n    <tr>\n      <th>Electronic cigarettes</th>\n      <td>0.417</td>\n    </tr>\n    <tr>\n      <th>Electronic cigarettes(Liquid)</th>\n      <td>0.362</td>\n    </tr>\n    <tr>\n      <th>Firecracker</th>\n      <td>0.686</td>\n    </tr>\n    <tr>\n      <th>Gun</th>\n      <td>0.931</td>\n    </tr>\n    <tr>\n      <th>GunParts</th>\n      <td>0.811</td>\n    </tr>\n    <tr>\n      <th>HDD</th>\n      <td>0.955</td>\n    </tr>\n    <tr>\n      <th>Hammer</th>\n      <td>0.927</td>\n    </tr>\n    <tr>\n      <th>HandCuffs</th>\n      <td>0.691</td>\n    </tr>\n    <tr>\n      <th>Knife</th>\n      <td>0.909</td>\n    </tr>\n    <tr>\n      <th>Laptop</th>\n      <td>0.938</td>\n    </tr>\n    <tr>\n      <th>Lighter</th>\n      <td>0.847</td>\n    </tr>\n    <tr>\n      <th>Liquid</th>\n      <td>0.980</td>\n    </tr>\n    <tr>\n      <th>Match</th>\n      <td>0.476</td>\n    </tr>\n    <tr>\n      <th>MetalPipe</th>\n      <td>0.885</td>\n    </tr>\n    <tr>\n      <th>NailClippers</th>\n      <td>0.784</td>\n    </tr>\n    <tr>\n      <th>Plier</th>\n      <td>0.815</td>\n    </tr>\n    <tr>\n      <th>PrtableGas</th>\n      <td>0.509</td>\n    </tr>\n    <tr>\n      <th>SSD</th>\n      <td>0.949</td>\n    </tr>\n    <tr>\n      <th>Saw</th>\n      <td>0.940</td>\n    </tr>\n    <tr>\n      <th>Scissors</th>\n      <td>0.953</td>\n    </tr>\n    <tr>\n      <th>Screwdriver</th>\n      <td>0.651</td>\n    </tr>\n    <tr>\n      <th>SmartPhone</th>\n      <td>0.923</td>\n    </tr>\n    <tr>\n      <th>SolidFuel</th>\n      <td>0.661</td>\n    </tr>\n    <tr>\n      <th>Spanner</th>\n      <td>0.965</td>\n    </tr>\n    <tr>\n      <th>SupplymentaryBattery</th>\n      <td>0.966</td>\n    </tr>\n    <tr>\n      <th>TabletPC</th>\n      <td>0.949</td>\n    </tr>\n    <tr>\n      <th>Thinner</th>\n      <td>0.340</td>\n    </tr>\n    <tr>\n      <th>Throwing Knife</th>\n      <td>0.412</td>\n    </tr>\n    <tr>\n      <th>USB</th>\n      <td>0.554</td>\n    </tr>\n    <tr>\n      <th>ZippoOil</th>\n      <td>0.228</td>\n    </tr>\n  </tbody>\n</table>\n</div>"
     },
     "execution_count": 62,
     "metadata": {},
     "output_type": "execute_result"
    }
   ],
   "source": [
    "pd_data.set_index(0, inplace=True)\n",
    "pd_data.sort_index(inplace=True)\n",
    "pd_data"
   ],
   "metadata": {
    "collapsed": false,
    "pycharm": {
     "name": "#%%\n"
    }
   }
  },
  {
   "cell_type": "code",
   "execution_count": 63,
   "outputs": [
    {
     "data": {
      "text/plain": "39"
     },
     "execution_count": 63,
     "metadata": {},
     "output_type": "execute_result"
    }
   ],
   "source": [
    "len(label)"
   ],
   "metadata": {
    "collapsed": false,
    "pycharm": {
     "name": "#%%\n"
    }
   }
  },
  {
   "cell_type": "code",
   "execution_count": 68,
   "outputs": [],
   "source": [
    "pd_label = pd.DataFrame(label)\n"
   ],
   "metadata": {
    "collapsed": false,
    "pycharm": {
     "name": "#%%\n"
    }
   }
  },
  {
   "cell_type": "code",
   "execution_count": 70,
   "outputs": [
    {
     "data": {
      "text/plain": "Empty DataFrame\nColumns: []\nIndex: [Aerosol, Alcohol, Awl, Axe, Bat, Battery, Bullet, Chisel, Electronic cigarettes, Electronic cigarettes(Liquid), Firecracker, Gun, GunParts, HDD, Hammer, HandCuffs, Knife, Laptop, Lighter, Liquid, Match, MetalPipe, NailClippers, Plier, PrtableGas, SSD, Saw, Scissors, Screwdriver, SmartPhone, SolidFuel, Spanner, SupplymentaryBattery, TabletPC, Thinner, Throwing Knife, USB, ZippoOil, stun gun]",
      "text/html": "<div>\n<style scoped>\n    .dataframe tbody tr th:only-of-type {\n        vertical-align: middle;\n    }\n\n    .dataframe tbody tr th {\n        vertical-align: top;\n    }\n\n    .dataframe thead th {\n        text-align: right;\n    }\n</style>\n<table border=\"1\" class=\"dataframe\">\n  <thead>\n    <tr style=\"text-align: right;\">\n      <th></th>\n    </tr>\n    <tr>\n      <th>0</th>\n    </tr>\n  </thead>\n  <tbody>\n    <tr>\n      <th>Aerosol</th>\n    </tr>\n    <tr>\n      <th>Alcohol</th>\n    </tr>\n    <tr>\n      <th>Awl</th>\n    </tr>\n    <tr>\n      <th>Axe</th>\n    </tr>\n    <tr>\n      <th>Bat</th>\n    </tr>\n    <tr>\n      <th>Battery</th>\n    </tr>\n    <tr>\n      <th>Bullet</th>\n    </tr>\n    <tr>\n      <th>Chisel</th>\n    </tr>\n    <tr>\n      <th>Electronic cigarettes</th>\n    </tr>\n    <tr>\n      <th>Electronic cigarettes(Liquid)</th>\n    </tr>\n    <tr>\n      <th>Firecracker</th>\n    </tr>\n    <tr>\n      <th>Gun</th>\n    </tr>\n    <tr>\n      <th>GunParts</th>\n    </tr>\n    <tr>\n      <th>HDD</th>\n    </tr>\n    <tr>\n      <th>Hammer</th>\n    </tr>\n    <tr>\n      <th>HandCuffs</th>\n    </tr>\n    <tr>\n      <th>Knife</th>\n    </tr>\n    <tr>\n      <th>Laptop</th>\n    </tr>\n    <tr>\n      <th>Lighter</th>\n    </tr>\n    <tr>\n      <th>Liquid</th>\n    </tr>\n    <tr>\n      <th>Match</th>\n    </tr>\n    <tr>\n      <th>MetalPipe</th>\n    </tr>\n    <tr>\n      <th>NailClippers</th>\n    </tr>\n    <tr>\n      <th>Plier</th>\n    </tr>\n    <tr>\n      <th>PrtableGas</th>\n    </tr>\n    <tr>\n      <th>SSD</th>\n    </tr>\n    <tr>\n      <th>Saw</th>\n    </tr>\n    <tr>\n      <th>Scissors</th>\n    </tr>\n    <tr>\n      <th>Screwdriver</th>\n    </tr>\n    <tr>\n      <th>SmartPhone</th>\n    </tr>\n    <tr>\n      <th>SolidFuel</th>\n    </tr>\n    <tr>\n      <th>Spanner</th>\n    </tr>\n    <tr>\n      <th>SupplymentaryBattery</th>\n    </tr>\n    <tr>\n      <th>TabletPC</th>\n    </tr>\n    <tr>\n      <th>Thinner</th>\n    </tr>\n    <tr>\n      <th>Throwing Knife</th>\n    </tr>\n    <tr>\n      <th>USB</th>\n    </tr>\n    <tr>\n      <th>ZippoOil</th>\n    </tr>\n    <tr>\n      <th>stun gun</th>\n    </tr>\n  </tbody>\n</table>\n</div>"
     },
     "execution_count": 70,
     "metadata": {},
     "output_type": "execute_result"
    }
   ],
   "source": [
    "pd_label.set_index(0,inplace=True)\n",
    "pd_label.sort_index(inplace=True)\n",
    "pd_label"
   ],
   "metadata": {
    "collapsed": false,
    "pycharm": {
     "name": "#%%\n"
    }
   }
  },
  {
   "cell_type": "code",
   "execution_count": 1,
   "outputs": [],
   "source": [
    "import json\n",
    "json_file_path = 'E:/Project/coco_rapiscan_change.json'\n",
    "\n",
    "with open(json_file_path, encoding='utf-8') as f:\n",
    "    data = json.load(f)"
   ],
   "metadata": {
    "collapsed": false,
    "pycharm": {
     "name": "#%%\n"
    }
   }
  },
  {
   "cell_type": "code",
   "execution_count": 6,
   "outputs": [],
   "source": [
    "images = pd.DataFrame(data['images'])"
   ],
   "metadata": {
    "collapsed": false,
    "pycharm": {
     "name": "#%%\n"
    }
   }
  },
  {
   "cell_type": "code",
   "execution_count": 31,
   "outputs": [
    {
     "name": "stdout",
     "output_type": "stream",
     "text": [
      "\\\\192.168.0.128\\d\\view\\Images\\Rapiscan\\TabletPC\\Single_Default\\S_8471.30-0000_21_061.png\n",
      "\\\\192.168.0.128\\d\\view\\Images\\Rapiscan\\TabletPC\\Single_Default\\S_8471.30-0000_21_062.png\n",
      "\\\\192.168.0.128\\d\\view\\Images\\Rapiscan\\TabletPC\\Single_Default\\S_8471.30-0000_21_063.png\n",
      "\\\\192.168.0.128\\d\\view\\Images\\Rapiscan\\TabletPC\\Single_Default\\S_8471.30-0000_21_064.png\n",
      "\\\\192.168.0.128\\d\\view\\Images\\Rapiscan\\TabletPC\\Single_Default\\S_8471.30-0000_21_065.png\n",
      "\\\\192.168.0.128\\d\\view\\Images\\Rapiscan\\TabletPC\\Single_Default\\S_8471.30-0000_21_066.png\n",
      "\\\\192.168.0.128\\d\\view\\Images\\Rapiscan\\TabletPC\\Single_Default\\S_8471.30-0000_21_067.png\n",
      "\\\\192.168.0.128\\d\\view\\Images\\Rapiscan\\TabletPC\\Single_Default\\S_8471.30-0000_21_068.png\n",
      "\\\\192.168.0.128\\d\\view\\Images\\Rapiscan\\TabletPC\\Single_Default\\S_8471.30-0000_21_069.png\n",
      "\\\\192.168.0.128\\d\\view\\Images\\Rapiscan\\TabletPC\\Single_Default\\S_8471.30-0000_21_070.png\n",
      "\\\\192.168.0.128\\d\\view\\Images\\Rapiscan\\TabletPC\\Single_Default\\S_8471.30-0000_21_071.png\n",
      "\\\\192.168.0.128\\d\\view\\Images\\Rapiscan\\TabletPC\\Single_Default\\S_8471.30-0000_21_072.png\n",
      "\\\\192.168.0.128\\d\\view\\Images\\Rapiscan\\TabletPC\\Single_Default\\S_8471.30-0000_21_073.png\n",
      "\\\\192.168.0.128\\d\\view\\Images\\Rapiscan\\TabletPC\\Single_Default\\S_8471.30-0000_21_074.png\n",
      "\\\\192.168.0.128\\d\\view\\Images\\Rapiscan\\TabletPC\\Single_Default\\S_8471.30-0000_21_075.png\n",
      "\\\\192.168.0.128\\d\\view\\Images\\Rapiscan\\TabletPC\\Single_Default\\S_8471.30-0000_21_076.png\n",
      "\\\\192.168.0.128\\d\\view\\Images\\Rapiscan\\TabletPC\\Single_Default\\S_8471.30-0000_21_077.png\n",
      "\\\\192.168.0.128\\d\\view\\Images\\Rapiscan\\TabletPC\\Single_Default\\S_8471.30-0000_21_078.png\n",
      "\\\\192.168.0.128\\d\\view\\Images\\Rapiscan\\TabletPC\\Single_Default\\S_8471.30-0000_21_079.png\n",
      "\\\\192.168.0.128\\d\\view\\Images\\Rapiscan\\TabletPC\\Single_Default\\S_8471.30-0000_21_080.png\n",
      "\\\\192.168.0.128\\d\\view\\Images\\Rapiscan\\TabletPC\\Single_Default\\S_8471.30-0000_21_081.png\n",
      "\\\\192.168.0.128\\d\\view\\Images\\Rapiscan\\TabletPC\\Single_Default\\S_8471.30-0000_21_082.png\n",
      "\\\\192.168.0.128\\d\\view\\Images\\Rapiscan\\TabletPC\\Single_Default\\S_8471.30-0000_21_083.png\n",
      "\\\\192.168.0.128\\d\\view\\Images\\Rapiscan\\TabletPC\\Single_Default\\S_8471.30-0000_21_084.png\n",
      "\\\\192.168.0.128\\d\\view\\Images\\Rapiscan\\TabletPC\\Single_Default\\S_8471.30-0000_21_085.png\n",
      "\\\\192.168.0.128\\d\\view\\Images\\Rapiscan\\TabletPC\\Single_Default\\S_8471.30-0000_21_086.png\n",
      "\\\\192.168.0.128\\d\\view\\Images\\Rapiscan\\TabletPC\\Single_Default\\S_8471.30-0000_21_087.png\n",
      "\\\\192.168.0.128\\d\\view\\Images\\Rapiscan\\TabletPC\\Single_Default\\S_8471.30-0000_21_088.png\n",
      "\\\\192.168.0.128\\d\\view\\Images\\Rapiscan\\TabletPC\\Single_Default\\S_8471.30-0000_21_089.png\n",
      "\\\\192.168.0.128\\d\\view\\Images\\Rapiscan\\TabletPC\\Single_Default\\S_8471.30-0000_21_090.png\n",
      "\\\\192.168.0.128\\d\\view\\Images\\Rapiscan\\TabletPC\\Single_Default\\S_8471.30-0000_22_065.png\n",
      "\\\\192.168.0.128\\d\\view\\Images\\Rapiscan\\TabletPC\\Single_Default\\S_8471.30-0000_22_066.png\n",
      "\\\\192.168.0.128\\d\\view\\Images\\Rapiscan\\TabletPC\\Single_Default\\S_8471.30-0000_22_067.png\n",
      "\\\\192.168.0.128\\d\\view\\Images\\Rapiscan\\TabletPC\\Single_Default\\S_8471.30-0000_22_068.png\n",
      "\\\\192.168.0.128\\d\\view\\Images\\Rapiscan\\TabletPC\\Single_Default\\S_8471.30-0000_22_069.png\n",
      "\\\\192.168.0.128\\d\\view\\Images\\Rapiscan\\TabletPC\\Single_Default\\S_8471.30-0000_22_070.png\n",
      "\\\\192.168.0.128\\d\\view\\Images\\Rapiscan\\TabletPC\\Single_Default\\S_8471.30-0000_22_071.png\n",
      "\\\\192.168.0.128\\d\\view\\Images\\Rapiscan\\TabletPC\\Single_Default\\S_8471.30-0000_22_072.png\n",
      "\\\\192.168.0.128\\d\\view\\Images\\Rapiscan\\TabletPC\\Single_Default\\S_8471.30-0000_22_073.png\n",
      "\\\\192.168.0.128\\d\\view\\Images\\Rapiscan\\TabletPC\\Single_Default\\S_8471.30-0000_22_074.png\n",
      "\\\\192.168.0.128\\d\\view\\Images\\Rapiscan\\TabletPC\\Single_Default\\S_8471.30-0000_22_075.png\n",
      "\\\\192.168.0.128\\d\\view\\Images\\Rapiscan\\TabletPC\\Single_Default\\S_8471.30-0000_22_076.png\n",
      "\\\\192.168.0.128\\d\\view\\Images\\Rapiscan\\TabletPC\\Single_Default\\S_8471.30-0000_22_077.png\n",
      "\\\\192.168.0.128\\d\\view\\Images\\Rapiscan\\TabletPC\\Single_Default\\S_8471.30-0000_22_078.png\n",
      "\\\\192.168.0.128\\d\\view\\Images\\Rapiscan\\TabletPC\\Single_Default\\S_8471.30-0000_22_079.png\n",
      "\\\\192.168.0.128\\d\\view\\Images\\Rapiscan\\TabletPC\\Single_Default\\S_8471.30-0000_22_080.png\n",
      "\\\\192.168.0.128\\d\\view\\Images\\Rapiscan\\TabletPC\\Single_Default\\S_8471.30-0000_22_081.png\n",
      "\\\\192.168.0.128\\d\\view\\Images\\Rapiscan\\TabletPC\\Single_Default\\S_8471.30-0000_22_082.png\n",
      "\\\\192.168.0.128\\d\\view\\Images\\Rapiscan\\TabletPC\\Single_Default\\S_8471.30-0000_22_083.png\n",
      "\\\\192.168.0.128\\d\\view\\Images\\Rapiscan\\TabletPC\\Single_Default\\S_8471.30-0000_22_084.png\n",
      "\\\\192.168.0.128\\d\\view\\Images\\Rapiscan\\TabletPC\\Single_Default\\S_8471.30-0000_22_085.png\n",
      "\\\\192.168.0.128\\d\\view\\Images\\Rapiscan\\TabletPC\\Single_Default\\S_8471.30-0000_22_086.png\n",
      "\\\\192.168.0.128\\d\\view\\Images\\Rapiscan\\TabletPC\\Single_Default\\S_8471.30-0000_22_087.png\n",
      "\\\\192.168.0.128\\d\\view\\Images\\Rapiscan\\TabletPC\\Single_Default\\S_8471.30-0000_22_088.png\n",
      "\\\\192.168.0.128\\d\\view\\Images\\Rapiscan\\TabletPC\\Single_Default\\S_8471.30-0000_22_089.png\n",
      "\\\\192.168.0.128\\d\\view\\Images\\Rapiscan\\TabletPC\\Single_Default\\S_8471.30-0000_22_090.png\n",
      "\\\\192.168.0.128\\d\\view\\Images\\Rapiscan\\TabletPC\\Single_Default\\S_8471.30-0000_22_091.png\n",
      "\\\\192.168.0.128\\d\\view\\Images\\Rapiscan\\TabletPC\\Single_Default\\S_8471.30-0000_22_092.png\n",
      "\\\\192.168.0.128\\d\\view\\Images\\Rapiscan\\TabletPC\\Single_Default\\S_8471.30-0000_22_093.png\n",
      "\\\\192.168.0.128\\d\\view\\Images\\Rapiscan\\TabletPC\\Single_Default\\S_8471.30-0000_22_094.png\n",
      "\\\\192.168.0.128\\d\\view\\Images\\Rapiscan\\TabletPC\\Single_Default\\S_8471.30-0000_23_064.png\n",
      "\\\\192.168.0.128\\d\\view\\Images\\Rapiscan\\TabletPC\\Single_Default\\S_8471.30-0000_23_065.png\n",
      "\\\\192.168.0.128\\d\\view\\Images\\Rapiscan\\TabletPC\\Single_Default\\S_8471.30-0000_23_066.png\n",
      "\\\\192.168.0.128\\d\\view\\Images\\Rapiscan\\TabletPC\\Single_Default\\S_8471.30-0000_23_067.png\n",
      "\\\\192.168.0.128\\d\\view\\Images\\Rapiscan\\TabletPC\\Single_Default\\S_8471.30-0000_23_068.png\n",
      "\\\\192.168.0.128\\d\\view\\Images\\Rapiscan\\TabletPC\\Single_Default\\S_8471.30-0000_23_069.png\n",
      "\\\\192.168.0.128\\d\\view\\Images\\Rapiscan\\TabletPC\\Single_Default\\S_8471.30-0000_23_070.png\n",
      "\\\\192.168.0.128\\d\\view\\Images\\Rapiscan\\TabletPC\\Single_Default\\S_8471.30-0000_23_071.png\n",
      "\\\\192.168.0.128\\d\\view\\Images\\Rapiscan\\TabletPC\\Single_Default\\S_8471.30-0000_23_072.png\n",
      "\\\\192.168.0.128\\d\\view\\Images\\Rapiscan\\TabletPC\\Single_Default\\S_8471.30-0000_23_073.png\n",
      "\\\\192.168.0.128\\d\\view\\Images\\Rapiscan\\TabletPC\\Single_Default\\S_8471.30-0000_23_074.png\n",
      "\\\\192.168.0.128\\d\\view\\Images\\Rapiscan\\TabletPC\\Single_Default\\S_8471.30-0000_23_075.png\n",
      "\\\\192.168.0.128\\d\\view\\Images\\Rapiscan\\TabletPC\\Single_Default\\S_8471.30-0000_23_076.png\n",
      "\\\\192.168.0.128\\d\\view\\Images\\Rapiscan\\TabletPC\\Single_Default\\S_8471.30-0000_23_077.png\n",
      "\\\\192.168.0.128\\d\\view\\Images\\Rapiscan\\TabletPC\\Single_Default\\S_8471.30-0000_23_078.png\n",
      "\\\\192.168.0.128\\d\\view\\Images\\Rapiscan\\TabletPC\\Single_Default\\S_8471.30-0000_23_079.png\n",
      "\\\\192.168.0.128\\d\\view\\Images\\Rapiscan\\TabletPC\\Single_Default\\S_8471.30-0000_23_080.png\n",
      "\\\\192.168.0.128\\d\\view\\Images\\Rapiscan\\TabletPC\\Single_Default\\S_8471.30-0000_23_081.png\n",
      "\\\\192.168.0.128\\d\\view\\Images\\Rapiscan\\TabletPC\\Single_Default\\S_8471.30-0000_23_082.png\n",
      "\\\\192.168.0.128\\d\\view\\Images\\Rapiscan\\TabletPC\\Single_Default\\S_8471.30-0000_23_083.png\n",
      "\\\\192.168.0.128\\d\\view\\Images\\Rapiscan\\TabletPC\\Single_Default\\S_8471.30-0000_23_084.png\n",
      "\\\\192.168.0.128\\d\\view\\Images\\Rapiscan\\TabletPC\\Single_Default\\S_8471.30-0000_23_085.png\n",
      "\\\\192.168.0.128\\d\\view\\Images\\Rapiscan\\TabletPC\\Single_Default\\S_8471.30-0000_23_086.png\n",
      "\\\\192.168.0.128\\d\\view\\Images\\Rapiscan\\TabletPC\\Single_Default\\S_8471.30-0000_23_087.png\n",
      "\\\\192.168.0.128\\d\\view\\Images\\Rapiscan\\TabletPC\\Single_Default\\S_8471.30-0000_23_088.png\n",
      "\\\\192.168.0.128\\d\\view\\Images\\Rapiscan\\TabletPC\\Single_Default\\S_8471.30-0000_23_089.png\n",
      "\\\\192.168.0.128\\d\\view\\Images\\Rapiscan\\TabletPC\\Single_Default\\S_8471.30-0000_23_090.png\n",
      "\\\\192.168.0.128\\d\\view\\Images\\Rapiscan\\TabletPC\\Single_Default\\S_8471.30-0000_23_091.png\n",
      "\\\\192.168.0.128\\d\\view\\Images\\Rapiscan\\TabletPC\\Single_Default\\S_8471.30-0000_24_062.png\n",
      "\\\\192.168.0.128\\d\\view\\Images\\Rapiscan\\TabletPC\\Single_Default\\S_8471.30-0000_24_063.png\n",
      "\\\\192.168.0.128\\d\\view\\Images\\Rapiscan\\TabletPC\\Single_Default\\S_8471.30-0000_24_064.png\n",
      "\\\\192.168.0.128\\d\\view\\Images\\Rapiscan\\TabletPC\\Single_Default\\S_8471.30-0000_24_065.png\n",
      "\\\\192.168.0.128\\d\\view\\Images\\Rapiscan\\TabletPC\\Single_Default\\S_8471.30-0000_24_066.png\n",
      "\\\\192.168.0.128\\d\\view\\Images\\Rapiscan\\TabletPC\\Single_Default\\S_8471.30-0000_24_067.png\n",
      "\\\\192.168.0.128\\d\\view\\Images\\Rapiscan\\TabletPC\\Single_Default\\S_8471.30-0000_24_068.png\n",
      "\\\\192.168.0.128\\d\\view\\Images\\Rapiscan\\TabletPC\\Single_Default\\S_8471.30-0000_24_069.png\n",
      "\\\\192.168.0.128\\d\\view\\Images\\Rapiscan\\TabletPC\\Single_Default\\S_8471.30-0000_24_070.png\n",
      "\\\\192.168.0.128\\d\\view\\Images\\Rapiscan\\TabletPC\\Single_Default\\S_8471.30-0000_24_071.png\n",
      "\\\\192.168.0.128\\d\\view\\Images\\Rapiscan\\TabletPC\\Single_Default\\S_8471.30-0000_24_072.png\n",
      "\\\\192.168.0.128\\d\\view\\Images\\Rapiscan\\TabletPC\\Single_Default\\S_8471.30-0000_24_073.png\n",
      "\\\\192.168.0.128\\d\\view\\Images\\Rapiscan\\TabletPC\\Single_Default\\S_8471.30-0000_24_074.png\n",
      "\\\\192.168.0.128\\d\\view\\Images\\Rapiscan\\TabletPC\\Single_Default\\S_8471.30-0000_24_075.png\n",
      "\\\\192.168.0.128\\d\\view\\Images\\Rapiscan\\TabletPC\\Single_Default\\S_8471.30-0000_24_076.png\n",
      "\\\\192.168.0.128\\d\\view\\Images\\Rapiscan\\TabletPC\\Single_Default\\S_8471.30-0000_24_077.png\n",
      "\\\\192.168.0.128\\d\\view\\Images\\Rapiscan\\TabletPC\\Single_Default\\S_8471.30-0000_24_078.png\n",
      "\\\\192.168.0.128\\d\\view\\Images\\Rapiscan\\TabletPC\\Single_Default\\S_8471.30-0000_24_079.png\n",
      "\\\\192.168.0.128\\d\\view\\Images\\Rapiscan\\TabletPC\\Single_Default\\S_8471.30-0000_24_080.png\n",
      "\\\\192.168.0.128\\d\\view\\Images\\Rapiscan\\TabletPC\\Single_Default\\S_8471.30-0000_24_081.png\n",
      "\\\\192.168.0.128\\d\\view\\Images\\Rapiscan\\TabletPC\\Single_Default\\S_8471.30-0000_24_082.png\n",
      "\\\\192.168.0.128\\d\\view\\Images\\Rapiscan\\TabletPC\\Single_Default\\S_8471.30-0000_24_083.png\n",
      "\\\\192.168.0.128\\d\\view\\Images\\Rapiscan\\TabletPC\\Single_Default\\S_8471.30-0000_24_084.png\n",
      "\\\\192.168.0.128\\d\\view\\Images\\Rapiscan\\TabletPC\\Single_Default\\S_8471.30-0000_24_085.png\n",
      "\\\\192.168.0.128\\d\\view\\Images\\Rapiscan\\TabletPC\\Single_Default\\S_8471.30-0000_24_086.png\n",
      "\\\\192.168.0.128\\d\\view\\Images\\Rapiscan\\TabletPC\\Single_Default\\S_8471.30-0000_24_087.png\n",
      "\\\\192.168.0.128\\d\\view\\Images\\Rapiscan\\TabletPC\\Single_Default\\S_8471.30-0000_24_088.png\n",
      "\\\\192.168.0.128\\d\\view\\Images\\Rapiscan\\TabletPC\\Single_Default\\S_8471.30-0000_24_089.png\n",
      "\\\\192.168.0.128\\d\\view\\Images\\Rapiscan\\TabletPC\\Single_Default\\S_8471.30-0000_24_090.png\n",
      "\\\\192.168.0.128\\d\\view\\Images\\Rapiscan\\TabletPC\\Single_Default\\S_8471.30-0000_24_091.png\n",
      "\\\\192.168.0.128\\d\\view\\Images\\Rapiscan\\TabletPC\\Single_Default\\S_8471.30-0000_24_092.png\n",
      "\\\\192.168.0.128\\d\\view\\Images\\Rapiscan\\TabletPC\\Single_Default\\S_8471.30-0000_24_093.png\n",
      "\\\\192.168.0.128\\d\\view\\Images\\Rapiscan\\TabletPC\\Single_Default\\S_8471.30-0000_25_063.png\n",
      "\\\\192.168.0.128\\d\\view\\Images\\Rapiscan\\TabletPC\\Single_Default\\S_8471.30-0000_25_064.png\n",
      "\\\\192.168.0.128\\d\\view\\Images\\Rapiscan\\TabletPC\\Single_Default\\S_8471.30-0000_25_065.png\n",
      "\\\\192.168.0.128\\d\\view\\Images\\Rapiscan\\TabletPC\\Single_Default\\S_8471.30-0000_25_066.png\n",
      "\\\\192.168.0.128\\d\\view\\Images\\Rapiscan\\TabletPC\\Single_Default\\S_8471.30-0000_25_067.png\n",
      "\\\\192.168.0.128\\d\\view\\Images\\Rapiscan\\TabletPC\\Single_Default\\S_8471.30-0000_25_068.png\n",
      "\\\\192.168.0.128\\d\\view\\Images\\Rapiscan\\TabletPC\\Single_Default\\S_8471.30-0000_25_069.png\n",
      "\\\\192.168.0.128\\d\\view\\Images\\Rapiscan\\TabletPC\\Single_Default\\S_8471.30-0000_25_070.png\n",
      "\\\\192.168.0.128\\d\\view\\Images\\Rapiscan\\TabletPC\\Single_Default\\S_8471.30-0000_25_071.png\n",
      "\\\\192.168.0.128\\d\\view\\Images\\Rapiscan\\TabletPC\\Single_Default\\S_8471.30-0000_25_072.png\n",
      "\\\\192.168.0.128\\d\\view\\Images\\Rapiscan\\TabletPC\\Single_Default\\S_8471.30-0000_25_073.png\n",
      "\\\\192.168.0.128\\d\\view\\Images\\Rapiscan\\TabletPC\\Single_Default\\S_8471.30-0000_25_074.png\n",
      "\\\\192.168.0.128\\d\\view\\Images\\Rapiscan\\TabletPC\\Single_Default\\S_8471.30-0000_25_075.png\n",
      "\\\\192.168.0.128\\d\\view\\Images\\Rapiscan\\TabletPC\\Single_Default\\S_8471.30-0000_25_076.png\n",
      "\\\\192.168.0.128\\d\\view\\Images\\Rapiscan\\TabletPC\\Single_Default\\S_8471.30-0000_25_077.png\n",
      "\\\\192.168.0.128\\d\\view\\Images\\Rapiscan\\TabletPC\\Single_Default\\S_8471.30-0000_25_078.png\n",
      "\\\\192.168.0.128\\d\\view\\Images\\Rapiscan\\TabletPC\\Single_Default\\S_8471.30-0000_25_079.png\n",
      "\\\\192.168.0.128\\d\\view\\Images\\Rapiscan\\TabletPC\\Single_Default\\S_8471.30-0000_25_080.png\n",
      "\\\\192.168.0.128\\d\\view\\Images\\Rapiscan\\TabletPC\\Single_Default\\S_8471.30-0000_25_081.png\n",
      "\\\\192.168.0.128\\d\\view\\Images\\Rapiscan\\TabletPC\\Single_Default\\S_8471.30-0000_25_082.png\n",
      "\\\\192.168.0.128\\d\\view\\Images\\Rapiscan\\TabletPC\\Single_Default\\S_8471.30-0000_25_083.png\n",
      "\\\\192.168.0.128\\d\\view\\Images\\Rapiscan\\TabletPC\\Single_Default\\S_8471.30-0000_25_084.png\n",
      "\\\\192.168.0.128\\d\\view\\Images\\Rapiscan\\TabletPC\\Single_Default\\S_8471.30-0000_25_085.png\n",
      "\\\\192.168.0.128\\d\\view\\Images\\Rapiscan\\TabletPC\\Single_Default\\S_8471.30-0000_25_086.png\n",
      "\\\\192.168.0.128\\d\\view\\Images\\Rapiscan\\TabletPC\\Single_Default\\S_8471.30-0000_25_087.png\n",
      "\\\\192.168.0.128\\d\\view\\Images\\Rapiscan\\TabletPC\\Single_Default\\S_8471.30-0000_25_088.png\n",
      "\\\\192.168.0.128\\d\\view\\Images\\Rapiscan\\TabletPC\\Single_Default\\S_8471.30-0000_25_089.png\n",
      "\\\\192.168.0.128\\d\\view\\Images\\Rapiscan\\TabletPC\\Single_Default\\S_8471.30-0000_25_090.png\n",
      "\\\\192.168.0.128\\d\\view\\Images\\Rapiscan\\TabletPC\\Single_Default\\S_8471.30-0000_26_062.png\n",
      "\\\\192.168.0.128\\d\\view\\Images\\Rapiscan\\TabletPC\\Single_Default\\S_8471.30-0000_26_063.png\n",
      "\\\\192.168.0.128\\d\\view\\Images\\Rapiscan\\TabletPC\\Single_Default\\S_8471.30-0000_26_064.png\n",
      "\\\\192.168.0.128\\d\\view\\Images\\Rapiscan\\TabletPC\\Single_Default\\S_8471.30-0000_26_065.png\n",
      "\\\\192.168.0.128\\d\\view\\Images\\Rapiscan\\TabletPC\\Single_Default\\S_8471.30-0000_26_066.png\n",
      "\\\\192.168.0.128\\d\\view\\Images\\Rapiscan\\TabletPC\\Single_Default\\S_8471.30-0000_26_067.png\n",
      "\\\\192.168.0.128\\d\\view\\Images\\Rapiscan\\TabletPC\\Single_Default\\S_8471.30-0000_26_068.png\n",
      "\\\\192.168.0.128\\d\\view\\Images\\Rapiscan\\TabletPC\\Single_Default\\S_8471.30-0000_26_069.png\n",
      "\\\\192.168.0.128\\d\\view\\Images\\Rapiscan\\TabletPC\\Single_Default\\S_8471.30-0000_26_070.png\n",
      "\\\\192.168.0.128\\d\\view\\Images\\Rapiscan\\TabletPC\\Single_Default\\S_8471.30-0000_26_071.png\n",
      "\\\\192.168.0.128\\d\\view\\Images\\Rapiscan\\TabletPC\\Single_Default\\S_8471.30-0000_26_072.png\n",
      "\\\\192.168.0.128\\d\\view\\Images\\Rapiscan\\TabletPC\\Single_Default\\S_8471.30-0000_26_073.png\n",
      "\\\\192.168.0.128\\d\\view\\Images\\Rapiscan\\TabletPC\\Single_Default\\S_8471.30-0000_26_074.png\n",
      "\\\\192.168.0.128\\d\\view\\Images\\Rapiscan\\TabletPC\\Single_Default\\S_8471.30-0000_26_075.png\n",
      "\\\\192.168.0.128\\d\\view\\Images\\Rapiscan\\TabletPC\\Single_Default\\S_8471.30-0000_26_076.png\n",
      "\\\\192.168.0.128\\d\\view\\Images\\Rapiscan\\TabletPC\\Single_Default\\S_8471.30-0000_26_077.png\n",
      "\\\\192.168.0.128\\d\\view\\Images\\Rapiscan\\TabletPC\\Single_Default\\S_8471.30-0000_26_078.png\n",
      "\\\\192.168.0.128\\d\\view\\Images\\Rapiscan\\TabletPC\\Single_Default\\S_8471.30-0000_26_079.png\n",
      "\\\\192.168.0.128\\d\\view\\Images\\Rapiscan\\TabletPC\\Single_Default\\S_8471.30-0000_26_080.png\n",
      "\\\\192.168.0.128\\d\\view\\Images\\Rapiscan\\TabletPC\\Single_Default\\S_8471.30-0000_26_081.png\n",
      "\\\\192.168.0.128\\d\\view\\Images\\Rapiscan\\TabletPC\\Single_Default\\S_8471.30-0000_26_082.png\n",
      "\\\\192.168.0.128\\d\\view\\Images\\Rapiscan\\TabletPC\\Single_Default\\S_8471.30-0000_26_083.png\n",
      "\\\\192.168.0.128\\d\\view\\Images\\Rapiscan\\TabletPC\\Single_Default\\S_8471.30-0000_26_084.png\n",
      "\\\\192.168.0.128\\d\\view\\Images\\Rapiscan\\TabletPC\\Single_Default\\S_8471.30-0000_26_085.png\n",
      "\\\\192.168.0.128\\d\\view\\Images\\Rapiscan\\TabletPC\\Single_Default\\S_8471.30-0000_26_086.png\n",
      "\\\\192.168.0.128\\d\\view\\Images\\Rapiscan\\TabletPC\\Single_Default\\S_8471.30-0000_26_087.png\n",
      "\\\\192.168.0.128\\d\\view\\Images\\Rapiscan\\TabletPC\\Single_Default\\S_8471.30-0000_26_088.png\n",
      "\\\\192.168.0.128\\d\\view\\Images\\Rapiscan\\TabletPC\\Single_Default\\S_8471.30-0000_26_089.png\n",
      "\\\\192.168.0.128\\d\\view\\Images\\Rapiscan\\TabletPC\\Single_Default\\S_8471.30-0000_26_090.png\n",
      "\\\\192.168.0.128\\d\\view\\Images\\Rapiscan\\TabletPC\\Single_Default\\S_8471.30-0000_27_065.png\n",
      "\\\\192.168.0.128\\d\\view\\Images\\Rapiscan\\TabletPC\\Single_Default\\S_8471.30-0000_27_066.png\n",
      "\\\\192.168.0.128\\d\\view\\Images\\Rapiscan\\TabletPC\\Single_Default\\S_8471.30-0000_27_067.png\n",
      "\\\\192.168.0.128\\d\\view\\Images\\Rapiscan\\TabletPC\\Single_Default\\S_8471.30-0000_27_068.png\n",
      "\\\\192.168.0.128\\d\\view\\Images\\Rapiscan\\TabletPC\\Single_Default\\S_8471.30-0000_27_069.png\n",
      "\\\\192.168.0.128\\d\\view\\Images\\Rapiscan\\TabletPC\\Single_Default\\S_8471.30-0000_27_070.png\n",
      "\\\\192.168.0.128\\d\\view\\Images\\Rapiscan\\TabletPC\\Single_Default\\S_8471.30-0000_27_071.png\n",
      "\\\\192.168.0.128\\d\\view\\Images\\Rapiscan\\TabletPC\\Single_Default\\S_8471.30-0000_27_072.png\n",
      "\\\\192.168.0.128\\d\\view\\Images\\Rapiscan\\TabletPC\\Single_Default\\S_8471.30-0000_27_073.png\n",
      "\\\\192.168.0.128\\d\\view\\Images\\Rapiscan\\TabletPC\\Single_Default\\S_8471.30-0000_27_074.png\n",
      "\\\\192.168.0.128\\d\\view\\Images\\Rapiscan\\TabletPC\\Single_Default\\S_8471.30-0000_27_075.png\n",
      "\\\\192.168.0.128\\d\\view\\Images\\Rapiscan\\TabletPC\\Single_Default\\S_8471.30-0000_27_076.png\n",
      "\\\\192.168.0.128\\d\\view\\Images\\Rapiscan\\TabletPC\\Single_Default\\S_8471.30-0000_27_077.png\n",
      "\\\\192.168.0.128\\d\\view\\Images\\Rapiscan\\TabletPC\\Single_Default\\S_8471.30-0000_27_078.png\n",
      "\\\\192.168.0.128\\d\\view\\Images\\Rapiscan\\TabletPC\\Single_Default\\S_8471.30-0000_27_079.png\n",
      "\\\\192.168.0.128\\d\\view\\Images\\Rapiscan\\TabletPC\\Single_Default\\S_8471.30-0000_27_080.png\n",
      "\\\\192.168.0.128\\d\\view\\Images\\Rapiscan\\TabletPC\\Single_Default\\S_8471.30-0000_27_081.png\n",
      "\\\\192.168.0.128\\d\\view\\Images\\Rapiscan\\TabletPC\\Single_Default\\S_8471.30-0000_27_082.png\n",
      "\\\\192.168.0.128\\d\\view\\Images\\Rapiscan\\TabletPC\\Single_Default\\S_8471.30-0000_27_083.png\n",
      "\\\\192.168.0.128\\d\\view\\Images\\Rapiscan\\TabletPC\\Single_Default\\S_8471.30-0000_27_084.png\n",
      "\\\\192.168.0.128\\d\\view\\Images\\Rapiscan\\TabletPC\\Single_Default\\S_8471.30-0000_27_085.png\n",
      "\\\\192.168.0.128\\d\\view\\Images\\Rapiscan\\TabletPC\\Single_Default\\S_8471.30-0000_27_086.png\n",
      "\\\\192.168.0.128\\d\\view\\Images\\Rapiscan\\TabletPC\\Single_Default\\S_8471.30-0000_27_087.png\n",
      "\\\\192.168.0.128\\d\\view\\Images\\Rapiscan\\TabletPC\\Single_Default\\S_8471.30-0000_27_088.png\n",
      "\\\\192.168.0.128\\d\\view\\Images\\Rapiscan\\TabletPC\\Single_Default\\S_8471.30-0000_27_089.png\n",
      "\\\\192.168.0.128\\d\\view\\Images\\Rapiscan\\TabletPC\\Single_Default\\S_8471.30-0000_27_090.png\n",
      "\\\\192.168.0.128\\d\\view\\Images\\Rapiscan\\TabletPC\\Single_Default\\S_8471.30-0000_27_091.png\n",
      "\\\\192.168.0.128\\d\\view\\Images\\Rapiscan\\TabletPC\\Single_Default\\S_8471.30-0000_27_092.png\n",
      "\\\\192.168.0.128\\d\\view\\Images\\Rapiscan\\TabletPC\\Single_Default\\S_8471.30-0000_28_066.png\n",
      "\\\\192.168.0.128\\d\\view\\Images\\Rapiscan\\TabletPC\\Single_Default\\S_8471.30-0000_28_067.png\n",
      "\\\\192.168.0.128\\d\\view\\Images\\Rapiscan\\TabletPC\\Single_Default\\S_8471.30-0000_28_068.png\n",
      "\\\\192.168.0.128\\d\\view\\Images\\Rapiscan\\TabletPC\\Single_Default\\S_8471.30-0000_28_069.png\n",
      "\\\\192.168.0.128\\d\\view\\Images\\Rapiscan\\TabletPC\\Single_Default\\S_8471.30-0000_28_070.png\n",
      "\\\\192.168.0.128\\d\\view\\Images\\Rapiscan\\TabletPC\\Single_Default\\S_8471.30-0000_28_071.png\n",
      "\\\\192.168.0.128\\d\\view\\Images\\Rapiscan\\TabletPC\\Single_Default\\S_8471.30-0000_28_072.png\n",
      "\\\\192.168.0.128\\d\\view\\Images\\Rapiscan\\TabletPC\\Single_Default\\S_8471.30-0000_28_073.png\n",
      "\\\\192.168.0.128\\d\\view\\Images\\Rapiscan\\TabletPC\\Single_Default\\S_8471.30-0000_28_074.png\n",
      "\\\\192.168.0.128\\d\\view\\Images\\Rapiscan\\TabletPC\\Single_Default\\S_8471.30-0000_28_075.png\n",
      "\\\\192.168.0.128\\d\\view\\Images\\Rapiscan\\TabletPC\\Single_Default\\S_8471.30-0000_28_076.png\n",
      "\\\\192.168.0.128\\d\\view\\Images\\Rapiscan\\TabletPC\\Single_Default\\S_8471.30-0000_28_077.png\n",
      "\\\\192.168.0.128\\d\\view\\Images\\Rapiscan\\TabletPC\\Single_Default\\S_8471.30-0000_28_078.png\n",
      "\\\\192.168.0.128\\d\\view\\Images\\Rapiscan\\TabletPC\\Single_Default\\S_8471.30-0000_28_079.png\n",
      "\\\\192.168.0.128\\d\\view\\Images\\Rapiscan\\TabletPC\\Single_Default\\S_8471.30-0000_28_080.png\n",
      "\\\\192.168.0.128\\d\\view\\Images\\Rapiscan\\TabletPC\\Single_Default\\S_8471.30-0000_28_081.png\n",
      "\\\\192.168.0.128\\d\\view\\Images\\Rapiscan\\TabletPC\\Single_Default\\S_8471.30-0000_28_082.png\n",
      "\\\\192.168.0.128\\d\\view\\Images\\Rapiscan\\TabletPC\\Single_Default\\S_8471.30-0000_28_083.png\n",
      "\\\\192.168.0.128\\d\\view\\Images\\Rapiscan\\TabletPC\\Single_Default\\S_8471.30-0000_28_084.png\n",
      "\\\\192.168.0.128\\d\\view\\Images\\Rapiscan\\TabletPC\\Single_Default\\S_8471.30-0000_28_085.png\n",
      "\\\\192.168.0.128\\d\\view\\Images\\Rapiscan\\TabletPC\\Single_Default\\S_8471.30-0000_28_086.png\n",
      "\\\\192.168.0.128\\d\\view\\Images\\Rapiscan\\TabletPC\\Single_Default\\S_8471.30-0000_28_087.png\n",
      "\\\\192.168.0.128\\d\\view\\Images\\Rapiscan\\TabletPC\\Single_Default\\S_8471.30-0000_28_088.png\n",
      "\\\\192.168.0.128\\d\\view\\Images\\Rapiscan\\TabletPC\\Single_Default\\S_8471.30-0000_28_089.png\n",
      "\\\\192.168.0.128\\d\\view\\Images\\Rapiscan\\TabletPC\\Single_Default\\S_8471.30-0000_28_090.png\n",
      "\\\\192.168.0.128\\d\\view\\Images\\Rapiscan\\TabletPC\\Single_Default\\S_8471.30-0000_28_091.png\n",
      "\\\\192.168.0.128\\d\\view\\Images\\Rapiscan\\TabletPC\\Single_Default\\S_8471.30-0000_28_092.png\n",
      "\\\\192.168.0.128\\d\\view\\Images\\Rapiscan\\TabletPC\\Single_Default\\S_8471.30-0000_29_064.png\n",
      "\\\\192.168.0.128\\d\\view\\Images\\Rapiscan\\TabletPC\\Single_Default\\S_8471.30-0000_29_065.png\n",
      "\\\\192.168.0.128\\d\\view\\Images\\Rapiscan\\TabletPC\\Single_Default\\S_8471.30-0000_29_066.png\n",
      "\\\\192.168.0.128\\d\\view\\Images\\Rapiscan\\TabletPC\\Single_Default\\S_8471.30-0000_29_067.png\n",
      "\\\\192.168.0.128\\d\\view\\Images\\Rapiscan\\TabletPC\\Single_Default\\S_8471.30-0000_29_068.png\n",
      "\\\\192.168.0.128\\d\\view\\Images\\Rapiscan\\TabletPC\\Single_Default\\S_8471.30-0000_29_069.png\n",
      "\\\\192.168.0.128\\d\\view\\Images\\Rapiscan\\TabletPC\\Single_Default\\S_8471.30-0000_29_070.png\n",
      "\\\\192.168.0.128\\d\\view\\Images\\Rapiscan\\TabletPC\\Single_Default\\S_8471.30-0000_29_071.png\n",
      "\\\\192.168.0.128\\d\\view\\Images\\Rapiscan\\TabletPC\\Single_Default\\S_8471.30-0000_29_072.png\n",
      "\\\\192.168.0.128\\d\\view\\Images\\Rapiscan\\TabletPC\\Single_Default\\S_8471.30-0000_29_073.png\n",
      "\\\\192.168.0.128\\d\\view\\Images\\Rapiscan\\TabletPC\\Single_Default\\S_8471.30-0000_29_074.png\n",
      "\\\\192.168.0.128\\d\\view\\Images\\Rapiscan\\TabletPC\\Single_Default\\S_8471.30-0000_29_075.png\n",
      "\\\\192.168.0.128\\d\\view\\Images\\Rapiscan\\TabletPC\\Single_Default\\S_8471.30-0000_29_076.png\n",
      "\\\\192.168.0.128\\d\\view\\Images\\Rapiscan\\TabletPC\\Single_Default\\S_8471.30-0000_29_077.png\n",
      "\\\\192.168.0.128\\d\\view\\Images\\Rapiscan\\TabletPC\\Single_Default\\S_8471.30-0000_29_078.png\n",
      "\\\\192.168.0.128\\d\\view\\Images\\Rapiscan\\TabletPC\\Single_Default\\S_8471.30-0000_29_079.png\n",
      "\\\\192.168.0.128\\d\\view\\Images\\Rapiscan\\TabletPC\\Single_Default\\S_8471.30-0000_29_080.png\n",
      "\\\\192.168.0.128\\d\\view\\Images\\Rapiscan\\TabletPC\\Single_Default\\S_8471.30-0000_29_081.png\n",
      "\\\\192.168.0.128\\d\\view\\Images\\Rapiscan\\TabletPC\\Single_Default\\S_8471.30-0000_29_082.png\n",
      "\\\\192.168.0.128\\d\\view\\Images\\Rapiscan\\TabletPC\\Single_Default\\S_8471.30-0000_29_083.png\n",
      "\\\\192.168.0.128\\d\\view\\Images\\Rapiscan\\TabletPC\\Single_Default\\S_8471.30-0000_29_084.png\n",
      "\\\\192.168.0.128\\d\\view\\Images\\Rapiscan\\TabletPC\\Single_Default\\S_8471.30-0000_29_085.png\n",
      "\\\\192.168.0.128\\d\\view\\Images\\Rapiscan\\TabletPC\\Single_Default\\S_8471.30-0000_29_086.png\n",
      "\\\\192.168.0.128\\d\\view\\Images\\Rapiscan\\TabletPC\\Single_Default\\S_8471.30-0000_29_087.png\n",
      "\\\\192.168.0.128\\d\\view\\Images\\Rapiscan\\TabletPC\\Single_Default\\S_8471.30-0000_29_088.png\n",
      "\\\\192.168.0.128\\d\\view\\Images\\Rapiscan\\TabletPC\\Single_Default\\S_8471.30-0000_29_089.png\n",
      "\\\\192.168.0.128\\d\\view\\Images\\Rapiscan\\TabletPC\\Single_Default\\S_8471.30-0000_29_090.png\n",
      "\\\\192.168.0.128\\d\\view\\Images\\Rapiscan\\TabletPC\\Single_Default\\S_8471.30-0000_29_091.png\n",
      "\\\\192.168.0.128\\d\\view\\Images\\Rapiscan\\TabletPC\\Single_Default\\S_8471.30-0000_30_064.png\n",
      "\\\\192.168.0.128\\d\\view\\Images\\Rapiscan\\TabletPC\\Single_Default\\S_8471.30-0000_30_065.png\n",
      "\\\\192.168.0.128\\d\\view\\Images\\Rapiscan\\TabletPC\\Single_Default\\S_8471.30-0000_30_066.png\n",
      "\\\\192.168.0.128\\d\\view\\Images\\Rapiscan\\TabletPC\\Single_Default\\S_8471.30-0000_30_067.png\n",
      "\\\\192.168.0.128\\d\\view\\Images\\Rapiscan\\TabletPC\\Single_Default\\S_8471.30-0000_30_068.png\n",
      "\\\\192.168.0.128\\d\\view\\Images\\Rapiscan\\TabletPC\\Single_Default\\S_8471.30-0000_30_069.png\n",
      "\\\\192.168.0.128\\d\\view\\Images\\Rapiscan\\TabletPC\\Single_Default\\S_8471.30-0000_30_070.png\n",
      "\\\\192.168.0.128\\d\\view\\Images\\Rapiscan\\TabletPC\\Single_Default\\S_8471.30-0000_30_071.png\n",
      "\\\\192.168.0.128\\d\\view\\Images\\Rapiscan\\TabletPC\\Single_Default\\S_8471.30-0000_30_072.png\n",
      "\\\\192.168.0.128\\d\\view\\Images\\Rapiscan\\TabletPC\\Single_Default\\S_8471.30-0000_30_073.png\n",
      "\\\\192.168.0.128\\d\\view\\Images\\Rapiscan\\TabletPC\\Single_Default\\S_8471.30-0000_30_074.png\n",
      "\\\\192.168.0.128\\d\\view\\Images\\Rapiscan\\TabletPC\\Single_Default\\S_8471.30-0000_30_075.png\n",
      "\\\\192.168.0.128\\d\\view\\Images\\Rapiscan\\TabletPC\\Single_Default\\S_8471.30-0000_30_076.png\n",
      "\\\\192.168.0.128\\d\\view\\Images\\Rapiscan\\TabletPC\\Single_Default\\S_8471.30-0000_30_077.png\n",
      "\\\\192.168.0.128\\d\\view\\Images\\Rapiscan\\TabletPC\\Single_Default\\S_8471.30-0000_30_078.png\n",
      "\\\\192.168.0.128\\d\\view\\Images\\Rapiscan\\TabletPC\\Single_Default\\S_8471.30-0000_30_079.png\n",
      "\\\\192.168.0.128\\d\\view\\Images\\Rapiscan\\TabletPC\\Single_Default\\S_8471.30-0000_30_080.png\n",
      "\\\\192.168.0.128\\d\\view\\Images\\Rapiscan\\TabletPC\\Single_Default\\S_8471.30-0000_30_081.png\n",
      "\\\\192.168.0.128\\d\\view\\Images\\Rapiscan\\TabletPC\\Single_Default\\S_8471.30-0000_30_082.png\n",
      "\\\\192.168.0.128\\d\\view\\Images\\Rapiscan\\TabletPC\\Single_Default\\S_8471.30-0000_30_083.png\n",
      "\\\\192.168.0.128\\d\\view\\Images\\Rapiscan\\TabletPC\\Single_Default\\S_8471.30-0000_30_084.png\n",
      "\\\\192.168.0.128\\d\\view\\Images\\Rapiscan\\TabletPC\\Single_Default\\S_8471.30-0000_30_085.png\n",
      "\\\\192.168.0.128\\d\\view\\Images\\Rapiscan\\TabletPC\\Single_Default\\S_8471.30-0000_30_086.png\n",
      "\\\\192.168.0.128\\d\\view\\Images\\Rapiscan\\TabletPC\\Single_Default\\S_8471.30-0000_30_087.png\n",
      "\\\\192.168.0.128\\d\\view\\Images\\Rapiscan\\TabletPC\\Single_Default\\S_8471.30-0000_30_088.png\n",
      "\\\\192.168.0.128\\d\\view\\Images\\Rapiscan\\TabletPC\\Single_Default\\S_8471.30-0000_30_089.png\n",
      "\\\\192.168.0.128\\d\\view\\Images\\Rapiscan\\TabletPC\\Single_Default\\S_8471.30-0000_30_090.png\n",
      "\\\\192.168.0.128\\d\\view\\Images\\Rapiscan\\TabletPC\\Single_Default\\S_8471.30-0000_30_091.png\n"
     ]
    }
   ],
   "source": [
    "paths = images['path']\n",
    "item_dict = dict()\n",
    "find_item = ['Thinner', 'Throwing Knife', 'ZippoOil','HDD','Battery',\n",
    "             'Alcohol', 'TabletPC']\n",
    "single_default = 'Single_Default'\n",
    "SupplymentaryBattery = 'SupplymentaryBattery'\n",
    "HDD_External='HDD_External'\n",
    "for path in paths:\n",
    "    if single_default in path:\n",
    "        for item in find_item:\n",
    "            if item in path:\n",
    "                if SupplymentaryBattery in path:\n",
    "                    continue\n",
    "                if HDD_External in path:\n",
    "                    continue\n",
    "                if item in item_dict.keys():\n",
    "                    item_dict[item] +=1\n",
    "                else:\n",
    "                    item_dict[item] = 1\n",
    "                if item=='TabletPC':\n",
    "                    print(path)"
   ],
   "metadata": {
    "collapsed": false,
    "pycharm": {
     "name": "#%%\n"
    }
   }
  },
  {
   "cell_type": "code",
   "execution_count": 32,
   "outputs": [
    {
     "data": {
      "text/plain": "{'ZippoOil': 125,\n 'Alcohol': 125,\n 'Thinner': 125,\n 'Throwing Knife': 125,\n 'Battery': 125,\n 'TabletPC': 288,\n 'HDD': 125}"
     },
     "execution_count": 32,
     "metadata": {},
     "output_type": "execute_result"
    }
   ],
   "source": [
    "item_dict\n"
   ],
   "metadata": {
    "collapsed": false,
    "pycharm": {
     "name": "#%%\n"
    }
   }
  },
  {
   "cell_type": "code",
   "execution_count": null,
   "outputs": [],
   "source": [],
   "metadata": {
    "collapsed": false,
    "pycharm": {
     "name": "#%%\n"
    }
   }
  }
 ],
 "metadata": {
  "kernelspec": {
   "name": "pycharm-5b874bc4",
   "language": "python",
   "display_name": "PyCharm (TFExams)"
  },
  "language_info": {
   "codemirror_mode": {
    "name": "ipython",
    "version": 2
   },
   "file_extension": ".py",
   "mimetype": "text/x-python",
   "name": "python",
   "nbconvert_exporter": "python",
   "pygments_lexer": "ipython2",
   "version": "2.7.6"
  }
 },
 "nbformat": 4,
 "nbformat_minor": 0
}