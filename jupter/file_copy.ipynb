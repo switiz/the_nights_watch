{
 "cells": [
  {
   "cell_type": "code",
   "execution_count": 1,
   "metadata": {
    "pycharm": {
     "name": "#%%\n"
    }
   },
   "outputs": [],
   "source": [
    "Tag = 'coco_yolo_txt'\n",
    "\n",
    "\"\"\"colab check\"\"\"\n",
    "try:\n",
    "    import google.colab\n",
    "    IN_COLAB = True\n",
    "except:\n",
    "    IN_COLAB = False\n",
    "if IN_COLAB:\n",
    "    pass\n",
    "else:\n",
    "    pass\n",
    "\n",
    "from jupter.notebook_utils import *\n",
    "'''parameters'''\n",
    "'''colab, google_drive, local_d, local_c, new_d, new_c'''\n",
    "images_dir_path, json_file_path = check_dir('local_e')"
   ]
  },
  {
   "cell_type": "code",
   "execution_count": null,
   "outputs": [
    {
     "name": "stdout",
     "output_type": "stream",
     "text": [
      "loading annotations into memory...\n",
      "Done (t=10.51s)\n",
      "creating index...\n",
      "index created!\n",
      "copy_file\n"
     ]
    },
    {
     "name": "stderr",
     "output_type": "stream",
     "text": [
      "100%|██████████| 665932/665932 [00:05<00:00, 113854.04it/s]\n",
      " 98%|█████████▊| 19821/20325 [02:37<00:04, 116.68it/s]"
     ]
    }
   ],
   "source": [
    "out_path = 'C:/Local/Train/Data'\n",
    "#output_paths = ['train_sd.txt', 'train_so.txt', 'train_md.txt', 'train_mo.txt']\n",
    "#cat_types = ['Single_Default', 'Single_Other', 'Multiple_Categories', 'Multiple_Other']\n",
    "cat_types = ['Single_Default']\n",
    "\n",
    "'''load json file'''\n",
    "coco = COCO(json_file_path)\n",
    "with open(json_file_path, encoding='utf-8') as f:\n",
    "   data = json.load(f)\n",
    "annotations = data['annotations']\n",
    "name_box_id = make_coco_to_yolo(cat_types, images_dir_path, coco, annotations)\n",
    "#copy file to local\n",
    "copy_file(name_box_id, images_dir_path, out_path)"
   ],
   "metadata": {
    "collapsed": false,
    "pycharm": {
     "name": "#%%\n",
     "is_executing": true
    }
   }
  },
  {
   "cell_type": "code",
   "execution_count": null,
   "outputs": [],
   "source": [
    "'''\n",
    "resize file to 640x640\n",
    "'''\n",
    "resize_file(path=images_dir_path+'*/*/*/*', img_size=640)\n",
    "\n",
    "\n"
   ],
   "metadata": {
    "collapsed": false,
    "pycharm": {
     "name": "#%%\n"
    }
   }
  }
 ],
 "metadata": {
  "kernelspec": {
   "name": "pycharm-5b874bc4",
   "language": "python",
   "display_name": "PyCharm (TFExams)"
  },
  "language_info": {
   "codemirror_mode": {
    "name": "ipython",
    "version": 3
   },
   "file_extension": ".py",
   "mimetype": "text/x-python",
   "name": "python",
   "nbconvert_exporter": "python",
   "pygments_lexer": "ipython3",
   "version": "3.8.5"
  }
 },
 "nbformat": 4,
 "nbformat_minor": 1
}