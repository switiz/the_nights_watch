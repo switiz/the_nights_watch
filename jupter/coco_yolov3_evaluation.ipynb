{
 "cells": [
  {
   "cell_type": "code",
   "execution_count": 1,
   "metadata": {
    "pycharm": {
     "name": "#%%\n"
    }
   },
   "outputs": [],
   "source": [
    "Tag = 'coco_yolo_txt'\n",
    "\"\"\"colab check\"\"\"\n",
    "try:\n",
    "    import google.colab\n",
    "    IN_COLAB = True\n",
    "except:\n",
    "    IN_COLAB = False\n",
    "\n",
    "if IN_COLAB:\n",
    "    pass\n",
    "else:\n",
    "    pass\n",
    "\n",
    "from jupter.notebook_utils import *"
   ]
  },
  {
   "cell_type": "code",
   "execution_count": 2,
   "metadata": {
    "pycharm": {
     "name": "#%%\n"
    }
   },
   "outputs": [
    {
     "name": "stdout",
     "output_type": "stream",
     "text": [
      "loading annotations into memory...\n",
      "Done (t=2.36s)\n",
      "creating index...\n",
      "index created!\n",
      "write_eval_path_file\n",
      "write done\n"
     ]
    },
    {
     "name": "stderr",
     "output_type": "stream",
     "text": [
      "100%|██████████| 143481/143481 [00:02<00:00, 62166.78it/s]\n",
      "100%|██████████| 7072/7072 [00:02<00:00, 2734.73it/s]\n"
     ]
    }
   ],
   "source": [
    "if __name__ == '__main__':\n",
    "    \"\"\"parameters\"\"\"\n",
    "    images_dir_path, json_file_path = check_dir('eval_e')\n",
    "    label_print = False\n",
    "#    output_paths = ['train_sd.txt', 'train_so.txt', 'train_md.txt', 'train_mo.txt']\n",
    "#    cat_types = ['Single_Default', 'Single_Other', 'Multiple_Categories', 'Multiple_Other']\n",
    "    output_paths = ['sd.txt']\n",
    "    cat_types = ['Single_Default']\n",
    "\n",
    "    \"\"\"load json file\"\"\"\n",
    "    coco = COCO(json_file_path)\n",
    "    with open(json_file_path, encoding='utf-8') as f:\n",
    "        data = json.load(f)\n",
    "\n",
    "    \"\"\"generate labels\"\"\"\n",
    "    annotations = data['annotations']\n",
    "    location = './yolov3'\n",
    "\n",
    "    for output in output_paths:\n",
    "        if label_print :\n",
    "            name_box_id = make_label(cat_types, images_dir_path, coco, annotations, False)\n",
    "            label_print_to_img(name_box_id)\n",
    "        else:\n",
    "            name_box_id = make_coco_to_yolo(cat_types, images_dir_path, coco, annotations, False)\n",
    "            write_anno_file(name_box_id)\n",
    "            write_eval_path_file(name_box_id, output, location)"
   ]
  },
  {
   "cell_type": "code",
   "execution_count": null,
   "outputs": [],
   "source": [],
   "metadata": {
    "collapsed": false,
    "pycharm": {
     "name": "#%%\n"
    }
   }
  }
 ],
 "metadata": {
  "kernelspec": {
   "name": "pycharm-5b874bc4",
   "language": "python",
   "display_name": "PyCharm (TFExams)"
  },
  "language_info": {
   "codemirror_mode": {
    "name": "ipython",
    "version": 3
   },
   "file_extension": ".py",
   "mimetype": "text/x-python",
   "name": "python",
   "nbconvert_exporter": "python",
   "pygments_lexer": "ipython3",
   "version": "3.8.5"
  }
 },
 "nbformat": 4,
 "nbformat_minor": 1
}