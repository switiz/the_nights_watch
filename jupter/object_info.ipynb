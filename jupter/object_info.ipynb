{
 "nbformat": 4,
 "nbformat_minor": 0,
 "metadata": {
  "colab": {
   "name": "Untitled8.ipynb",
   "provenance": [],
   "mount_file_id": "1LM6BxVHXZiCHMPza0lN_LlgoB7kfvG4H",
   "authorship_tag": "ABX9TyNN7L4pzbqiUY1Tb9U2gwPB",
   "include_colab_link": true
  },
  "kernelspec": {
   "name": "python3",
   "display_name": "Python 3"
  }
 },
 "cells": [
  {
   "cell_type": "markdown",
   "metadata": {
    "id": "view-in-github",
    "colab_type": "text"
   },
   "source": [
    "<a href=\"https://colab.research.google.com/github/swecomic/xray/blob/jy_dev/ipynb/object_info.ipynb\" target=\"_parent\"><img src=\"https://colab.research.google.com/assets/colab-badge.svg\" alt=\"Open In Colab\"/></a>"
   ]
  },
  {
   "cell_type": "code",
   "metadata": {
    "id": "Jult2q0rBbPI",
    "colab_type": "code",
    "colab": {
     "base_uri": "https://localhost:8080/",
     "height": 108
    },
   "source": [
    "######[IMPORT MODULE]#######\n",
    "# coalb detect logic\n",
    "try:\n",
    "    import google.colab\n",
    "    IN_COLAB = True\n",
    "except:\n",
    "    IN_COLAB = False\n",
    "\n",
    "import matplotlib\n",
    "import matplotlib.pyplot as plt\n",
    "\n",
    "if IN_COLAB:\n",
    "    from xray.Utils import xrayDataLoader as x_loader\n",
    "    from xray.Utils.logger import log\n",
    "else:\n",
    "    from Utils import xrayDataLoader as x_loader\n",
    "    from Utils.logger import log\n",
    "    # matplotlib.use('TkAgg')\n",
    "    matplotlib.use('module://backend_interagg')\n",
    "\n",
    "import importlib\n",
    "importlib.reload(x_loader)\n",
    "\n",
    "def check_dir(path):\n",
    "    if path == 'colab':\n",
    "        train_data_dir = '/content/drive/' + 'Shared drives' + '/YS_NW/2.Data/Train/Data'\n",
    "        train_coco = '/content/drive/Shared drives/YS_NW/2.Data/Train/Meta/CoCo/coco_rapiscan.json'\n",
    "    elif path == 'google_drive':\n",
    "        train_data_dir = 'G:/공유 드라이브/YS_NW/2.Data/Train/Data'\n",
    "        train_coco = 'G:/공유 드라이브/YS_NW/2.Data/Train/Meta/CoCo/coco_rapiscan.json'\n",
    "    else:\n",
    "        train_data_dir = '/data/jiylee/dataset/xray/Train/Data'\n",
    "        train_coco = '/data/jiylee/dataset/xray/Train/Meta/CoCo/coco_rapiscan.json'\n",
    "\n",
    "    return train_data_dir, train_coco\n",
    "\n",
    "def show_class_info():\n",
    "    train_data_dir, train_data_coco = check_dir(LOCATION_PATH)\n",
    "\n",
    "    dataset = x_loader.XrayDataSet(root=train_data_dir, annotation=train_data_coco\n",
    "                                   , class_name=None, img_type=None, flag=None)\n",
    "    class_list =dataset.get_object_info()\n",
    "\n",
    "    return class_list\n",
    "\n",
    "if __name__ == '__main__':\n",
    "    # location\n",
    "    LOCATION_PATH = 'colab'\n",
    "    class_info = show_class_info()\n",
    "    ax = class_info.plot(x='ID', kind='bar', rot=0)\n",
    "    plt.show()"
   ],
   "execution_count": null,
   "outputs": [
    {
  }
 ]
}