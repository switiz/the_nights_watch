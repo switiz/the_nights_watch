{
 "cells": [
  {
   "cell_type": "code",
   "execution_count": 1,
   "metadata": {
    "collapsed": true
   },
   "outputs": [
    {
     "name": "stdout",
     "output_type": "stream",
     "text": [
      "loading annotations into memory...\n",
      "Done (t=12.00s)\n",
      "creating index...\n",
      "index created!\n"
     ]
    },
    {
     "name": "stderr",
     "output_type": "stream",
     "text": [
      "100%|██████████| 665932/665932 [00:08<00:00, 81448.32it/s]\n",
      " 17%|█▋        | 174/1000 [00:18<01:29,  9.18it/s]\n"
     ]
    },
    {
     "ename": "KeyboardInterrupt",
     "evalue": "",
     "output_type": "error",
     "traceback": [
      "\u001B[1;31m---------------------------------------------------------------------------\u001B[0m",
      "\u001B[1;31mAttributeError\u001B[0m                            Traceback (most recent call last)",
      "\u001B[1;32mC:\\ProgramData\\Anaconda3\\envs\\xray_pytorch\\lib\\site-packages\\PIL\\ImageFile.py\u001B[0m in \u001B[0;36m_save\u001B[1;34m(im, fp, tile, bufsize)\u001B[0m\n\u001B[0;32m    509\u001B[0m     \u001B[1;32mtry\u001B[0m\u001B[1;33m:\u001B[0m\u001B[1;33m\u001B[0m\u001B[1;33m\u001B[0m\u001B[0m\n\u001B[1;32m--> 510\u001B[1;33m         \u001B[0mfh\u001B[0m \u001B[1;33m=\u001B[0m \u001B[0mfp\u001B[0m\u001B[1;33m.\u001B[0m\u001B[0mfileno\u001B[0m\u001B[1;33m(\u001B[0m\u001B[1;33m)\u001B[0m\u001B[1;33m\u001B[0m\u001B[1;33m\u001B[0m\u001B[0m\n\u001B[0m\u001B[0;32m    511\u001B[0m         \u001B[0mfp\u001B[0m\u001B[1;33m.\u001B[0m\u001B[0mflush\u001B[0m\u001B[1;33m(\u001B[0m\u001B[1;33m)\u001B[0m\u001B[1;33m\u001B[0m\u001B[1;33m\u001B[0m\u001B[0m\n",
      "\u001B[1;31mAttributeError\u001B[0m: '_idat' object has no attribute 'fileno'",
      "\nDuring handling of the above exception, another exception occurred:\n",
      "\u001B[1;31mKeyboardInterrupt\u001B[0m                         Traceback (most recent call last)",
      "\u001B[1;32m<ipython-input-1-28f8c92e7401>\u001B[0m in \u001B[0;36m<module>\u001B[1;34m\u001B[0m\n\u001B[0;32m    101\u001B[0m \u001B[1;33m\u001B[0m\u001B[0m\n\u001B[0;32m    102\u001B[0m \u001B[0mbbox\u001B[0m\u001B[1;33m,\u001B[0m \u001B[0m_\u001B[0m \u001B[1;33m=\u001B[0m \u001B[0mget_default_value\u001B[0m\u001B[1;33m(\u001B[0m\u001B[1;33m)\u001B[0m\u001B[1;33m\u001B[0m\u001B[1;33m\u001B[0m\u001B[0m\n\u001B[1;32m--> 103\u001B[1;33m \u001B[0mlabel_print_to_img\u001B[0m\u001B[1;33m(\u001B[0m\u001B[0mbbox\u001B[0m\u001B[1;33m)\u001B[0m\u001B[1;33m\u001B[0m\u001B[1;33m\u001B[0m\u001B[0m\n\u001B[0m",
      "\u001B[1;32m<ipython-input-1-28f8c92e7401>\u001B[0m in \u001B[0;36mlabel_print_to_img\u001B[1;34m(name_box_id)\u001B[0m\n\u001B[0;32m     97\u001B[0m         \u001B[0mnewheight\u001B[0m \u001B[1;33m=\u001B[0m \u001B[0mint\u001B[0m\u001B[1;33m(\u001B[0m\u001B[0mratio\u001B[0m \u001B[1;33m*\u001B[0m \u001B[1;36m800\u001B[0m\u001B[1;33m)\u001B[0m\u001B[1;33m\u001B[0m\u001B[1;33m\u001B[0m\u001B[0m\n\u001B[0;32m     98\u001B[0m         \u001B[0mimg\u001B[0m \u001B[1;33m=\u001B[0m \u001B[0mimg\u001B[0m\u001B[1;33m.\u001B[0m\u001B[0mresize\u001B[0m\u001B[1;33m(\u001B[0m\u001B[1;33m(\u001B[0m\u001B[1;36m800\u001B[0m\u001B[1;33m,\u001B[0m \u001B[0mnewheight\u001B[0m\u001B[1;33m)\u001B[0m\u001B[1;33m,\u001B[0m \u001B[0mImage\u001B[0m\u001B[1;33m.\u001B[0m\u001B[0mANTIALIAS\u001B[0m\u001B[1;33m)\u001B[0m\u001B[1;33m\u001B[0m\u001B[1;33m\u001B[0m\u001B[0m\n\u001B[1;32m---> 99\u001B[1;33m         \u001B[0mimg\u001B[0m\u001B[1;33m.\u001B[0m\u001B[0msave\u001B[0m\u001B[1;33m(\u001B[0m\u001B[0mkey\u001B[0m\u001B[1;33m)\u001B[0m\u001B[1;33m\u001B[0m\u001B[1;33m\u001B[0m\u001B[0m\n\u001B[0m\u001B[0;32m    100\u001B[0m \u001B[1;33m\u001B[0m\u001B[0m\n\u001B[0;32m    101\u001B[0m \u001B[1;33m\u001B[0m\u001B[0m\n",
      "\u001B[1;32mC:\\ProgramData\\Anaconda3\\envs\\xray_pytorch\\lib\\site-packages\\PIL\\Image.py\u001B[0m in \u001B[0;36msave\u001B[1;34m(self, fp, format, **params)\u001B[0m\n\u001B[0;32m   2149\u001B[0m \u001B[1;33m\u001B[0m\u001B[0m\n\u001B[0;32m   2150\u001B[0m         \u001B[1;32mtry\u001B[0m\u001B[1;33m:\u001B[0m\u001B[1;33m\u001B[0m\u001B[1;33m\u001B[0m\u001B[0m\n\u001B[1;32m-> 2151\u001B[1;33m             \u001B[0msave_handler\u001B[0m\u001B[1;33m(\u001B[0m\u001B[0mself\u001B[0m\u001B[1;33m,\u001B[0m \u001B[0mfp\u001B[0m\u001B[1;33m,\u001B[0m \u001B[0mfilename\u001B[0m\u001B[1;33m)\u001B[0m\u001B[1;33m\u001B[0m\u001B[1;33m\u001B[0m\u001B[0m\n\u001B[0m\u001B[0;32m   2152\u001B[0m         \u001B[1;32mfinally\u001B[0m\u001B[1;33m:\u001B[0m\u001B[1;33m\u001B[0m\u001B[1;33m\u001B[0m\u001B[0m\n\u001B[0;32m   2153\u001B[0m             \u001B[1;31m# do what we can to clean up\u001B[0m\u001B[1;33m\u001B[0m\u001B[1;33m\u001B[0m\u001B[1;33m\u001B[0m\u001B[0m\n",
      "\u001B[1;32mC:\\ProgramData\\Anaconda3\\envs\\xray_pytorch\\lib\\site-packages\\PIL\\PngImagePlugin.py\u001B[0m in \u001B[0;36m_save\u001B[1;34m(im, fp, filename, chunk, save_all)\u001B[0m\n\u001B[0;32m   1337\u001B[0m         \u001B[0m_write_multiple_frames\u001B[0m\u001B[1;33m(\u001B[0m\u001B[0mim\u001B[0m\u001B[1;33m,\u001B[0m \u001B[0mfp\u001B[0m\u001B[1;33m,\u001B[0m \u001B[0mchunk\u001B[0m\u001B[1;33m,\u001B[0m \u001B[0mrawmode\u001B[0m\u001B[1;33m)\u001B[0m\u001B[1;33m\u001B[0m\u001B[1;33m\u001B[0m\u001B[0m\n\u001B[0;32m   1338\u001B[0m     \u001B[1;32melse\u001B[0m\u001B[1;33m:\u001B[0m\u001B[1;33m\u001B[0m\u001B[1;33m\u001B[0m\u001B[0m\n\u001B[1;32m-> 1339\u001B[1;33m         \u001B[0mImageFile\u001B[0m\u001B[1;33m.\u001B[0m\u001B[0m_save\u001B[0m\u001B[1;33m(\u001B[0m\u001B[0mim\u001B[0m\u001B[1;33m,\u001B[0m \u001B[0m_idat\u001B[0m\u001B[1;33m(\u001B[0m\u001B[0mfp\u001B[0m\u001B[1;33m,\u001B[0m \u001B[0mchunk\u001B[0m\u001B[1;33m)\u001B[0m\u001B[1;33m,\u001B[0m \u001B[1;33m[\u001B[0m\u001B[1;33m(\u001B[0m\u001B[1;34m\"zip\"\u001B[0m\u001B[1;33m,\u001B[0m \u001B[1;33m(\u001B[0m\u001B[1;36m0\u001B[0m\u001B[1;33m,\u001B[0m \u001B[1;36m0\u001B[0m\u001B[1;33m)\u001B[0m \u001B[1;33m+\u001B[0m \u001B[0mim\u001B[0m\u001B[1;33m.\u001B[0m\u001B[0msize\u001B[0m\u001B[1;33m,\u001B[0m \u001B[1;36m0\u001B[0m\u001B[1;33m,\u001B[0m \u001B[0mrawmode\u001B[0m\u001B[1;33m)\u001B[0m\u001B[1;33m]\u001B[0m\u001B[1;33m)\u001B[0m\u001B[1;33m\u001B[0m\u001B[1;33m\u001B[0m\u001B[0m\n\u001B[0m\u001B[0;32m   1340\u001B[0m \u001B[1;33m\u001B[0m\u001B[0m\n\u001B[0;32m   1341\u001B[0m     \u001B[1;32mif\u001B[0m \u001B[0minfo\u001B[0m\u001B[1;33m:\u001B[0m\u001B[1;33m\u001B[0m\u001B[1;33m\u001B[0m\u001B[0m\n",
      "\u001B[1;32mC:\\ProgramData\\Anaconda3\\envs\\xray_pytorch\\lib\\site-packages\\PIL\\ImageFile.py\u001B[0m in \u001B[0;36m_save\u001B[1;34m(im, fp, tile, bufsize)\u001B[0m\n\u001B[0;32m    522\u001B[0m             \u001B[1;32melse\u001B[0m\u001B[1;33m:\u001B[0m\u001B[1;33m\u001B[0m\u001B[1;33m\u001B[0m\u001B[0m\n\u001B[0;32m    523\u001B[0m                 \u001B[1;32mwhile\u001B[0m \u001B[1;32mTrue\u001B[0m\u001B[1;33m:\u001B[0m\u001B[1;33m\u001B[0m\u001B[1;33m\u001B[0m\u001B[0m\n\u001B[1;32m--> 524\u001B[1;33m                     \u001B[0ml\u001B[0m\u001B[1;33m,\u001B[0m \u001B[0ms\u001B[0m\u001B[1;33m,\u001B[0m \u001B[0md\u001B[0m \u001B[1;33m=\u001B[0m \u001B[0me\u001B[0m\u001B[1;33m.\u001B[0m\u001B[0mencode\u001B[0m\u001B[1;33m(\u001B[0m\u001B[0mbufsize\u001B[0m\u001B[1;33m)\u001B[0m\u001B[1;33m\u001B[0m\u001B[1;33m\u001B[0m\u001B[0m\n\u001B[0m\u001B[0;32m    525\u001B[0m                     \u001B[0mfp\u001B[0m\u001B[1;33m.\u001B[0m\u001B[0mwrite\u001B[0m\u001B[1;33m(\u001B[0m\u001B[0md\u001B[0m\u001B[1;33m)\u001B[0m\u001B[1;33m\u001B[0m\u001B[1;33m\u001B[0m\u001B[0m\n\u001B[0;32m    526\u001B[0m                     \u001B[1;32mif\u001B[0m \u001B[0ms\u001B[0m\u001B[1;33m:\u001B[0m\u001B[1;33m\u001B[0m\u001B[1;33m\u001B[0m\u001B[0m\n",
      "\u001B[1;31mKeyboardInterrupt\u001B[0m: "
     ]
    }
   ],
   "source": [
    "import json\n",
    "import os\n",
    "from collections import defaultdict\n",
    "from pycocotools.coco import COCO\n",
    "from tqdm import tqdm\n",
    "from PIL import Image, ImageDraw, ImageFont\n",
    "\n",
    "img_check_folder = 'C:/Local/Train/Data/'\n",
    "json_file_path = 'E:/Project/Label/coco_rapiscan_change.json'\n",
    "out_path = 'C:/train_imgcheck/'\n",
    "classes = ['ZippoOil', 'Chisel']\n",
    "#test하실 class명을 넣으세요\n",
    "\n",
    "coco = COCO(json_file_path)\n",
    "with open(json_file_path, encoding='utf-8') as f:\n",
    "    data = json.load(f)\n",
    "\n",
    "def index_change(index):\n",
    "    \"\"\"\n",
    "    Index change\n",
    "    Xray index start 0 and index 14, 35 is empty\n",
    "    \"\"\"\n",
    "    if index <=13:\n",
    "        index-=1\n",
    "    elif index >14 and index <=34:\n",
    "        index-=2\n",
    "    elif index >35:\n",
    "        index-=3\n",
    "    return int(index)\n",
    "\n",
    "def select_class(path, classes):\n",
    "    \"\"\"\n",
    "    class selection\n",
    "    \"\"\"\n",
    "    for x in classes:\n",
    "        if x in path:\n",
    "            return True\n",
    "        else:\n",
    "            continue\n",
    "    return False\n",
    "\n",
    "def get_default_value(cat_type='Single_Default'):\n",
    "    default_box = defaultdict(list)\n",
    "    total_file = []\n",
    "    for idx, ant in enumerate(tqdm(data['annotations'])):\n",
    "        id = ant['image_id']\n",
    "        # name = os.path.join(images_dir_path, images[id]['file_name'])\n",
    "        ann_ids = coco.getAnnIds(imgIds=id)\n",
    "        coco_annotation = coco.loadAnns(ann_ids)\n",
    "        img_info = coco.loadImgs(coco_annotation[0][\"image_id\"])\n",
    "        cat = coco.getCatIds(catIds=id)\n",
    "        file_path = img_info[0][\"path\"].split('\\\\', maxsplit=7)[-1]\n",
    "        total_file.append(file_path)\n",
    "\n",
    "        if select_class(file_path, cat_type) is False:\n",
    "            continue\n",
    "        if select_class(file_path, classes) is False:\n",
    "            continue\n",
    "        if os.path.isfile(os.path.join(img_check_folder, file_path)) is False:\n",
    "            # log(Tag , 'empty file : '+str(file_path))\n",
    "            continue\n",
    "        name = os.path.join(img_check_folder, file_path).replace('\\\\', '/')\n",
    "        default_box[name].append([ant['bbox'], index_change(ant['category_id'])])\n",
    "    return default_box, total_file\n",
    "\n",
    "def class_id_to_str(class_id):\n",
    "    class_dict = {34: 'ZippoOil', 37: 'Chisel', 24: 'Scissors', 30: 'SupplymentaryBattery', 22: 'PrtableGas',\n",
    "                  36: 'Plier', 15: 'Knife', 17: 'Lighter', 11: 'Hammer', 9: 'Gun', 20: 'MetalPipe', 25: 'Screwdriver',\n",
    "                  4: 'Axe', 28: 'Spanner', 23: 'Saw', 10: 'GunParts', 1: 'Aerosol', 19: 'Match', 2: 'Alcohol',\n",
    "                  39: 'Electronic cigarettes(Liquid)', 12: 'HandCuffs', 41: 'Throwing Knife', 32: 'Thinner',\n",
    "                  40: 'stun gun', 38: 'Electronic cigarettes', 26: 'SmartPhone', 13: 'HDD', 27: 'SolidFuel',\n",
    "                  6: 'Battery', 3: 'Awl', 18: 'Liquid', 33: 'USB', 31: 'TabletPC', 29: 'SSD', 21: 'NailClippers',\n",
    "                  16: 'Laptop', 7: 'Bullet', 8: 'Firecracker', 5: 'Bat'}\n",
    "\n",
    "    return class_dict[class_id]\n",
    "\n",
    "def label_print_to_img(name_box_id):\n",
    "    fontsize = 14\n",
    "    font = ImageFont.truetype(\"arial.ttf\", fontsize)\n",
    "    for idx, key in enumerate(tqdm(name_box_id.keys())):\n",
    "        img = Image.open(key)\n",
    "        infos = name_box_id[key]\n",
    "        draw = ImageDraw.Draw(img)\n",
    "        for info in infos:\n",
    "            data = info[0]\n",
    "            class_name = class_id_to_str(info[1])\n",
    "            xmin, ymin, xmax, ymax = data[0], data[1], data[0] + data[2], data[1] + data[3]\n",
    "            rect = [xmin, ymin, xmax, ymax]\n",
    "            label_rect = [xmin + 2, ymin + 1]\n",
    "            draw.rectangle(rect, outline='red', width=3)\n",
    "            draw.text(label_rect, class_name, fill='Blue', font=font)\n",
    "        key = key.replace(img_check_folder, out_path)\n",
    "        path = os.path.split(key)\n",
    "        if os.path.exists(path[0]) is False:\n",
    "            os.makedirs(path[0])\n",
    "        width, height = img.size\n",
    "        ratio = float(height / width)\n",
    "        newheight = int(ratio * 800)\n",
    "        img = img.resize((800, newheight), Image.ANTIALIAS)\n",
    "        img.save(key)\n",
    "\n",
    "bbox, _ = get_default_value()\n",
    "label_print_to_img(bbox)"
   ]
  },
  {
   "cell_type": "code",
   "execution_count": null,
   "outputs": [],
   "source": [],
   "metadata": {
    "collapsed": false,
    "pycharm": {
     "name": "#%%\n"
    }
   }
  }
 ],
 "metadata": {
  "kernelspec": {
   "name": "pycharm-5b874bc4",
   "language": "python",
   "display_name": "PyCharm (TFExams)"
  },
  "language_info": {
   "codemirror_mode": {
    "name": "ipython",
    "version": 2
   },
   "file_extension": ".py",
   "mimetype": "text/x-python",
   "name": "python",
   "nbconvert_exporter": "python",
   "pygments_lexer": "ipython2",
   "version": "2.7.6"
  }
 },
 "nbformat": 4,
 "nbformat_minor": 0
}