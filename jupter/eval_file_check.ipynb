{
 "cells": [
  {
   "cell_type": "code",
   "execution_count": 2,
   "metadata": {
    "collapsed": true
   },
   "outputs": [],
   "source": [
    "from jupter.notebook_utils import *"
   ]
  },
  {
   "cell_type": "code",
   "execution_count": 2,
   "outputs": [
    {
     "name": "stdout",
     "output_type": "stream",
     "text": [
      "loading annotations into memory...\n",
      "Done (t=2.43s)\n",
      "creating index...\n",
      "index created!\n"
     ]
    },
    {
     "name": "stderr",
     "output_type": "stream",
     "text": [
      "100%|██████████| 27643/27643 [00:01<00:00, 16682.57it/s]\n"
     ]
    }
   ],
   "source": [],
   "metadata": {
    "collapsed": false,
    "pycharm": {
     "name": "#%%\n"
    }
   }
  },
  {
   "cell_type": "code",
   "execution_count": 2,
   "outputs": [
    {
     "name": "stdout",
     "output_type": "stream",
     "text": [
      "loading annotations into memory...\n",
      "Done (t=2.44s)\n",
      "creating index...\n",
      "index created!\n"
     ]
    }
   ],
   "source": [
    "match = {}\n",
    "notmatch ={}\n",
    "total =[]\n",
    "img_check_folder = 'E:/Project/data/'\n",
    "json_file_path = 'E:/Project/Label/coco_eval_rapiscan.json'\n",
    "\n",
    "exist = glob.glob('E:\\Project\\data/**/*/*')\n",
    "\n",
    "coco = COCO(json_file_path)\n",
    "with open(json_file_path, encoding='utf-8') as f:\n",
    "    data = json.load(f)"
   ],
   "metadata": {
    "collapsed": false,
    "pycharm": {
     "name": "#%%\n"
    }
   }
  },
  {
   "cell_type": "code",
   "execution_count": 3,
   "outputs": [],
   "source": [
    "\"\"\"\n",
    "annotation and file check\n",
    "\"\"\"\n",
    "for img in tqdm(coco.imgs):\n",
    "    img_info = coco.loadImgs(img)\n",
    "    if cat in img_info[0]['path']:\n",
    "        file_name= img_info[0]['file_name']\n",
    "        path = img_info[0]['path'].split('\\\\', maxsplit=8)[-1]\n",
    "        if path in exist is False:\n",
    "            #print(os.path.join(img_dir_folder,path))\n",
    "            notmatch[path] = 1\n",
    "        else :\n",
    "            match[path]= 1"
   ],
   "metadata": {
    "collapsed": false,
    "pycharm": {
     "name": "#%%\n"
    }
   }
  },
  {
   "cell_type": "code",
   "execution_count": null,
   "outputs": [],
   "source": [
    "def get_default_value(cat_type='Single_Default'):\n",
    "    default_box = defaultdict(list)\n",
    "    total_file = []\n",
    "    for idx, ant in enumerate(tqdm(data['annotations'])):\n",
    "        id = ant['image_id']\n",
    "        # name = os.path.join(images_dir_path, images[id]['file_name'])\n",
    "        ann_ids = coco.getAnnIds(imgIds=id)\n",
    "        coco_annotation = coco.loadAnns(ann_ids)\n",
    "        img_info = coco.loadImgs(coco_annotation[0][\"image_id\"])\n",
    "        cat = coco.getCatIds(catIds=id)\n",
    "        file_path = img_info[0][\"path\"].split('\\\\', maxsplit=8)[-1]\n",
    "        total_file.append(file_path)\n",
    "\n",
    "        if select_class(file_path, cat_type) is False:\n",
    "            continue\n",
    "        if os.path.isfile(os.path.join(img_check_folder, file_path)) is False:\n",
    "            # log(Tag , 'empty file : '+str(file_path))\n",
    "            continue\n",
    "        name = os.path.join(img_check_folder, file_path).replace('\\\\', '/')\n",
    "        mask = coco.annToRLE(ant)\n",
    "        if mask is not None:\n",
    "            box = coco.segtoBox(mask)\n",
    "        else :\n",
    "            print(file_path)\n",
    "        default_box[name].append([box, index_change(ant['category_id'])])\n",
    "    return default_box, total_file"
   ],
   "metadata": {
    "collapsed": false,
    "pycharm": {
     "name": "#%%\n"
    }
   }
  },
  {
   "cell_type": "code",
   "execution_count": 4,
   "outputs": [
    {
     "name": "stderr",
     "output_type": "stream",
     "text": [
      "100%|██████████| 143481/143481 [00:18<00:00, 7823.82it/s] \n"
     ]
    },
    {
     "name": "stdout",
     "output_type": "stream",
     "text": [
      "segm: [] 3457\n",
      "segm: [] 3925\n",
      "segm: [] 7393\n",
      "segm: [] 14036\n",
      "segm: [] 18254\n",
      "segm: [] 18326\n",
      "segm: [] 18326\n",
      "segm: [] 20882\n",
      "segm: [] 22664\n"
     ]
    }
   ],
   "source": [
    "bbox, file_list = get_default_value()"
   ],
   "metadata": {
    "collapsed": false,
    "pycharm": {
     "name": "#%%\n"
    }
   }
  },
  {
   "cell_type": "code",
   "execution_count": null,
   "outputs": [],
   "source": [
    "len (bbox)"
   ],
   "metadata": {
    "collapsed": false,
    "pycharm": {
     "name": "#%%\n",
     "is_executing": true
    }
   }
  },
  {
   "cell_type": "code",
   "execution_count": 7,
   "outputs": [
    {
     "name": "stderr",
     "output_type": "stream",
     "text": [
      "100%|██████████| 27643/27643 [1:48:12<00:00,  4.26it/s]  \n"
     ]
    }
   ],
   "source": [
    "#check file\n",
    "output = 'E:/Project/label_check/'\n",
    "for idx, key in enumerate(tqdm(bbox.keys())):\n",
    "    img = Image.open(key)\n",
    "    infos = bbox[key]\n",
    "    draw = ImageDraw.Draw(img)\n",
    "    out = key.replace(img_check_folder, output)\n",
    "    dir = os.path.dirname(out)\n",
    "    if os.path.exists(dir) is False:\n",
    "        os.makedirs(dir)\n",
    "    for info in infos:\n",
    "        x1, y1, x2, y2 = info[0][0], info[0][1], info[0][2], info[0][3]\n",
    "        xmin = x1\n",
    "        xmax = x1 + x2\n",
    "        ymin = y1\n",
    "        ymax = y1 + y2\n",
    "        rect = [xmin, ymin, xmax, ymax]\n",
    "        draw.rectangle(rect, outline='red', width=3)\n",
    "    #img.show()\n",
    "    img.save(out, 'PNG')"
   ],
   "metadata": {
    "collapsed": false,
    "pycharm": {
     "name": "#%%\n"
    }
   }
  },
  {
   "cell_type": "code",
   "execution_count": null,
   "outputs": [],
   "source": [
    "'''\n",
    "    draw = ImageDraw.Draw(img)\n",
    "    xmin,ymin,xmax,ymax = data[0],data[1], data[0]+data[2], data[1]+data[3]\n",
    "    rect = [xmin,ymin,xmax,ymax]\n",
    "    draw.rectangle(rect, outline='red', width=3)\n",
    "    #img.show()\n",
    "    Image.'''"
   ],
   "metadata": {
    "collapsed": false,
    "pycharm": {
     "name": "#%%\n"
    }
   }
  },
  {
   "cell_type": "code",
   "execution_count": 45,
   "outputs": [
    {
     "name": "stdout",
     "output_type": "stream",
     "text": [
      "E:\\Project\\label_check/ZippoOil/Multiple_Categories/H_2707.99-1000_01_494.png\n"
     ]
    }
   ],
   "source": [
    "for idx, key in enumerate(bbox.keys()):\n",
    "    if idx ==0:\n",
    "        kk =key.replace(img_check_folder, output)\n",
    "        print(kk)"
   ],
   "metadata": {
    "collapsed": false,
    "pycharm": {
     "name": "#%%\n"
    }
   }
  },
  {
   "cell_type": "code",
   "execution_count": 3,
   "outputs": [],
   "source": [
    "\"\"\"\n",
    "JSON BBOX change\n",
    "\"\"\""
   ],
   "metadata": {
    "collapsed": false,
    "pycharm": {
     "name": "#%%\n"
    }
   }
  },
  {
   "cell_type": "code",
   "execution_count": 5,
   "outputs": [
    {
     "name": "stdout",
     "output_type": "stream",
     "text": [
      "loading annotations into memory...\n",
      "Done (t=14.90s)\n",
      "creating index...\n",
      "index created!\n",
      "segm: [] 5419\n",
      "segm: [] 5455\n",
      "segm: [] 5575\n",
      "segm: [] 5611\n",
      "segm: [] 15964\n",
      "segm: [] 16020\n",
      "segm: [] 31425\n",
      "segm: [] 35033\n",
      "segm: [] 38003\n",
      "segm: [] 55676\n",
      "segm: [] 55746\n",
      "segm: [] 57809\n",
      "segm: [] 67708\n",
      "segm: [] 67732\n",
      "segm: [] 67837\n",
      "segm: [] 67861\n",
      "segm: [] 69850\n",
      "segm: [] 70546\n",
      "segm: [] 70546\n",
      "segm: [] 70758\n",
      "segm: [] 70886\n",
      "segm: [] 80440\n",
      "segm: [] 80518\n",
      "segm: [] 81519\n",
      "segm: [] 81575\n",
      "segm: [] 91213\n",
      "segm: [] 93226\n",
      "segm: [] 93226\n",
      "segm: [] 93289\n",
      "segm: [] 93289\n",
      "segm: [] 93690\n",
      "segm: [] 93784\n",
      "segm: [] 102600\n",
      "segm: [] 104939\n",
      "segm: [] 104975\n",
      "segm: [] 114892\n",
      "segm: [] 115001\n",
      "segm: [] 115610\n",
      "segm: [] 115660\n",
      "segm: [] 121837\n",
      "segm: [] 121893\n",
      "segm: [] 123342\n",
      "segm: [] 123406\n",
      "segm: [] 123473\n",
      "segm: [] 123537\n",
      "segm: [] 123657\n",
      "segm: [] 123721\n",
      "segm: [] 123983\n",
      "segm: [] 124163\n",
      "segm: [] 124180\n",
      "segm: [] 124244\n",
      "segm: [] 124412\n",
      "segm: [] 124477\n",
      "segm: [] 125310\n",
      "segm: [] 125375\n",
      "segm: [] 125445\n",
      "segm: [] 125449\n",
      "segm: [] 125469\n",
      "segm: [] 125510\n",
      "segm: [] 125514\n",
      "segm: [] 125534\n",
      "segm: [] 125612\n",
      "segm: [] 125677\n",
      "segm: [] 125809\n",
      "segm: [] 125873\n",
      "segm: [] 126114\n",
      "segm: [] 126324\n",
      "segm: [] 126332\n",
      "segm: [] 126338\n",
      "segm: [] 126390\n",
      "segm: [] 126398\n",
      "segm: [] 126404\n",
      "segm: [] 129515\n",
      "segm: [] 130594\n",
      "segm: [] 134562\n",
      "segm: [] 134563\n"
     ]
    },
    {
     "name": "stderr",
     "output_type": "stream",
     "text": [
      "100%|██████████| 665932/665932 [00:47<00:00, 14101.07it/s]\n"
     ]
    }
   ],
   "source": [
    "img_check_folder = 'E:/Project/data/'\n",
    "json_file_path = 'E:/Project/Label/train/coco_rapiscan.json'\n",
    "coco = COCO(json_file_path)\n",
    "\n",
    "with open(json_file_path, encoding='utf-8') as f:\n",
    "    data = json.load(f)\n",
    "\n",
    "annotation = data['annotations']\n",
    "total_list =[]\n",
    "for ann in tqdm(annotation):\n",
    "    id = ann['image_id']\n",
    "    # name = os.path.join(images_dir_path, images[id]['file_name'])\n",
    "    ann_ids = coco.getAnnIds(imgIds=id)\n",
    "    coco_annotation = coco.loadAnns(ann_ids)\n",
    "    img_info = coco.loadImgs(coco_annotation[0][\"image_id\"])\n",
    "    cat = coco.getCatIds(catIds=id)\n",
    "    file_path = img_info[0][\"path\"].split('\\\\', maxsplit=7)[-1]\n",
    "\n",
    "    mask = annToRLE(ann)\n",
    "    if mask is not None:\n",
    "        box = segtoBox(mask).tolist()\n",
    "        ann['bbox'] = box\n",
    "    else:\n",
    "        total_list.append(file_path)"
   ],
   "metadata": {
    "collapsed": false,
    "pycharm": {
     "name": "#%%\n"
    }
   }
  },
  {
   "cell_type": "code",
   "execution_count": 6,
   "outputs": [
    {
     "data": {
      "text/plain": "['MetalPipe\\\\Multiple_Categories\\\\H_7306.90-9000_08_166.png',\n 'MetalPipe\\\\Multiple_Categories\\\\H_7306.90-9000_08_481.png',\n 'MetalPipe\\\\Multiple_Categories\\\\H_7306.90-9000_09_155.png',\n 'MetalPipe\\\\Multiple_Categories\\\\H_7306.90-9000_09_470.png',\n 'Axe\\\\Multiple_Categories\\\\H_8201.40-0000_11_109.png',\n 'Axe\\\\Multiple_Categories\\\\H_8201.40-0000_11_745.png',\n 'Spanner\\\\Single_Other\\\\H_8204.20-0000_08_006.png',\n 'Hammer\\\\Multiple_Categories\\\\H_8205.20-0000_01_014.png',\n 'Hammer\\\\Multiple_Categories\\\\H_8205.20-0000_12_047.png',\n 'Awl\\\\Multiple_Categories\\\\H_8207.50-1090_20_065.png',\n 'Awl\\\\Multiple_Categories\\\\H_8207.50-1090_20_645.png',\n 'Knife\\\\Multiple_Other\\\\H_8211.91-0000_09_323.png',\n 'Scissors\\\\Multiple_Categories\\\\H_8213.00-1000_13_342.png',\n 'Scissors\\\\Multiple_Categories\\\\H_8213.00-1000_13_366.png',\n 'Scissors\\\\Multiple_Categories\\\\H_8213.00-1000_13_974.png',\n 'Scissors\\\\Multiple_Categories\\\\H_8213.00-1000_13_998.png',\n 'Scissors\\\\Multiple_Categories\\\\H_8213.00-1000_22_383.png',\n 'Scissors\\\\Multiple_Categories\\\\H_8213.00-1000_25_383.png',\n 'Scissors\\\\Multiple_Categories\\\\H_8213.00-1000_25_383.png',\n 'Scissors\\\\Multiple_Categories\\\\H_8213.00-1000_26_366.png',\n 'Scissors\\\\Multiple_Categories\\\\H_8213.00-1000_26_997.png',\n 'Gun\\\\Multiple_Categories\\\\H_8424.20-1000_16_212.png',\n 'Gun\\\\Multiple_Categories\\\\H_8424.20-1000_16_777.png',\n 'Gun\\\\Multiple_Categories\\\\H_8424.20-1000_20_267.png',\n 'Gun\\\\Multiple_Categories\\\\H_8424.20-1000_20_767.png',\n 'SupplymentaryBattery\\\\Single_Other\\\\H_8507.60-1000_04_046.png',\n 'SupplymentaryBattery\\\\Multiple_Categories\\\\H_8507.60-1000_16_287.png',\n 'SupplymentaryBattery\\\\Multiple_Categories\\\\H_8507.60-1000_16_287.png',\n 'SupplymentaryBattery\\\\Multiple_Categories\\\\H_8507.60-1000_16_579.png',\n 'SupplymentaryBattery\\\\Multiple_Categories\\\\H_8507.60-1000_16_579.png',\n 'SupplymentaryBattery\\\\Multiple_Categories\\\\H_8507.60-1000_19_110.png',\n 'SupplymentaryBattery\\\\Multiple_Categories\\\\H_8507.60-1000_19_483.png',\n 'Bullet\\\\Multiple_Categories\\\\H_9306.30-9000_11_370.png',\n 'Liquid\\\\Multiple_Categories\\\\H_93307.90-9000_07_320.png',\n 'Liquid\\\\Multiple_Categories\\\\H_93307.90-9000_07_669.png',\n 'Bat\\\\Multiple_Other\\\\H_9506.91-0000_02_044.png',\n 'Bat\\\\Multiple_Other\\\\H_9506.91-0000_02_504.png',\n 'Bat\\\\Multiple_Categories\\\\H_9506.91-0000_06_094.png',\n 'Bat\\\\Multiple_Categories\\\\H_9506.91-0000_06_488.png',\n 'Lighter\\\\Multiple_Categories\\\\H_9613.80-0000_21_286.png',\n 'Lighter\\\\Multiple_Categories\\\\H_9613.80-0000_21_752.png',\n 'LapTop\\\\Multiple_Other\\\\S_8471.30-0000_02_500.png',\n 'LapTop\\\\Multiple_Other\\\\S_8471.30-0000_02_564.png',\n 'LapTop\\\\Multiple_Categories\\\\S_8471.30-0000_03_459.png',\n 'LapTop\\\\Multiple_Categories\\\\S_8471.30-0000_03_523.png',\n 'LapTop\\\\Multiple_Categories\\\\S_8471.30-0000_04_464.png',\n 'LapTop\\\\Multiple_Categories\\\\S_8471.30-0000_04_528.png',\n 'LapTop\\\\Single_Default\\\\S_8471.30-0000_06_047.png',\n 'LapTop\\\\Single_Default\\\\S_8471.30-0000_07_045.png',\n 'LapTop\\\\Multiple_Categories\\\\S_8471.30-0000_07_459.png',\n 'LapTop\\\\Multiple_Categories\\\\S_8471.30-0000_07_523.png',\n 'LapTop\\\\Multiple_Other\\\\S_8471.30-0000_08_517.png',\n 'LapTop\\\\Multiple_Other\\\\S_8471.30-0000_08_582.png',\n 'LapTop\\\\Multiple_Other\\\\S_8471.30-0000_13_513.png',\n 'LapTop\\\\Multiple_Other\\\\S_8471.30-0000_13_578.png',\n 'LapTop\\\\Multiple_Categories\\\\S_8471.30-0000_14_456.png',\n 'LapTop\\\\Multiple_Categories\\\\S_8471.30-0000_14_460.png',\n 'LapTop\\\\Multiple_Other\\\\S_8471.30-0000_14_480.png',\n 'LapTop\\\\Multiple_Categories\\\\S_8471.30-0000_14_521.png',\n 'LapTop\\\\Multiple_Categories\\\\S_8471.30-0000_14_525.png',\n 'LapTop\\\\Multiple_Other\\\\S_8471.30-0000_14_545.png',\n 'LapTop\\\\Multiple_Categories\\\\S_8471.30-0000_15_443.png',\n 'LapTop\\\\Multiple_Categories\\\\S_8471.30-0000_15_508.png',\n 'LapTop\\\\Multiple_Categories\\\\S_8471.30-0000_16_459.png',\n 'LapTop\\\\Multiple_Categories\\\\S_8471.30-0000_16_523.png',\n 'LapTop\\\\Single_Default\\\\S_8471.30-0000_18_411.png',\n 'LapTop\\\\Multiple_Categories\\\\S_8471.30-0000_19_435.png',\n 'LapTop\\\\Multiple_Categories\\\\S_8471.30-0000_19_443.png',\n 'LapTop\\\\Multiple_Categories\\\\S_8471.30-0000_19_449.png',\n 'LapTop\\\\Multiple_Categories\\\\S_8471.30-0000_19_501.png',\n 'LapTop\\\\Multiple_Categories\\\\S_8471.30-0000_19_509.png',\n 'LapTop\\\\Multiple_Categories\\\\S_8471.30-0000_19_515.png',\n 'HDD_External\\\\Single_Default\\\\S_8471.70-2020_07_006.png',\n 'SmartPhone\\\\Single_Default\\\\S_8517.70-1029_03_014.png',\n 'USB\\\\Multiple_Categories\\\\S_8544.42-2090_01_159.png',\n 'USB\\\\Multiple_Categories\\\\S_8544.42-2090_01_160.png']"
     },
     "execution_count": 6,
     "metadata": {},
     "output_type": "execute_result"
    }
   ],
   "source": [
    "total_list"
   ],
   "metadata": {
    "collapsed": false,
    "pycharm": {
     "name": "#%%\n"
    }
   }
  },
  {
   "cell_type": "code",
   "execution_count": 9,
   "outputs": [
    {
     "data": {
      "text/plain": "[731.0, 480.0, 115.0, 125.0]"
     },
     "execution_count": 9,
     "metadata": {},
     "output_type": "execute_result"
    }
   ],
   "source": [
    "annotation[0]['bbox']"
   ],
   "metadata": {
    "collapsed": false,
    "pycharm": {
     "name": "#%%\n"
    }
   }
  },
  {
   "cell_type": "code",
   "execution_count": 10,
   "outputs": [
    {
     "data": {
      "text/plain": "[731.0, 409.0, 115.0, 125.0]"
     },
     "execution_count": 10,
     "metadata": {},
     "output_type": "execute_result"
    }
   ],
   "source": [
    "kk = annToRLE(annotation[0])\n",
    "box = segtoBox(kk)\n",
    "box.tolist()"
   ],
   "metadata": {
    "collapsed": false,
    "pycharm": {
     "name": "#%%\n"
    }
   }
  },
  {
   "cell_type": "code",
   "execution_count": 12,
   "outputs": [
    {
     "name": "stdout",
     "output_type": "stream",
     "text": [
      "loading annotations into memory...\n",
      "Done (t=8.47s)\n",
      "creating index...\n",
      "index created!\n"
     ]
    },
    {
     "name": "stderr",
     "output_type": "stream",
     "text": [
      "  0%|          | 280/665932 [00:00<00:11, 56009.40it/s]\n"
     ]
    }
   ],
   "source": [
    "match = {}\n",
    "notmatch ={}\n",
    "total =[]\n",
    "img_check_folder = 'E:/Project/Train/'\n",
    "json_file_path = 'E:/Project/Label/coco_rapiscan_change.json'\n",
    "exist = glob.glob('E:\\Project\\data/**/*/*')\n",
    "\n",
    "coco = COCO(json_output)\n",
    "with open(json_output, encoding='utf-8') as f:\n",
    "    data = json.load(f)\n",
    "\n",
    "def get_default_value(cat_type='Single_Default'):\n",
    "    default_box = defaultdict(list)\n",
    "    total_file = []\n",
    "    for idx, ant in enumerate(tqdm(data['annotations'])):\n",
    "        id = ant['image_id']\n",
    "        # name = os.path.join(images_dir_path, images[id]['file_name'])\n",
    "        ann_ids = coco.getAnnIds(imgIds=id)\n",
    "        coco_annotation = coco.loadAnns(ann_ids)\n",
    "        img_info = coco.loadImgs(coco_annotation[0][\"image_id\"])\n",
    "        cat = coco.getCatIds(catIds=id)\n",
    "        file_path = img_info[0][\"path\"].split('\\\\', maxsplit=7)[-1]\n",
    "\n",
    "        total_file.append(file_path)\n",
    "\n",
    "        name = os.path.join(img_check_folder, file_path).replace('\\\\', '/')\n",
    "        default_box[name].append([ant['bbox'], index_change(ant['category_id'])])\n",
    "    return default_box, total_file\n",
    "\n",
    "bbox, file_list = get_default_value()\n",
    "output = 'E:/Project/label_check/'"
   ],
   "metadata": {
    "collapsed": false,
    "pycharm": {
     "name": "#%%\n"
    }
   }
  },
  {
   "cell_type": "code",
   "execution_count": 13,
   "outputs": [
    {
     "data": {
      "text/plain": "defaultdict(list,\n            {'E:/Project/Train/ZippoOil/Single_Default/H_2707.99-1000_01_001.png': [[[689.0,\n                509.0,\n                100.0,\n                138.0],\n               32]],\n             'E:/Project/Train/ZippoOil/Single_Default/H_2707.99-1000_01_002.png': [[[892.0,\n                508.0,\n                100.0,\n                140.0],\n               32]],\n             'E:/Project/Train/ZippoOil/Single_Default/H_2707.99-1000_01_003.png': [[[805.0,\n                463.0,\n                126.0,\n                84.0],\n               32]],\n             'E:/Project/Train/ZippoOil/Single_Default/H_2707.99-1000_01_004.png': [[[750.0,\n                462.0,\n                123.0,\n                84.0],\n               32]],\n             'E:/Project/Train/ZippoOil/Single_Default/H_2707.99-1000_01_005.png': [[[613.0,\n                342.0,\n                89.0,\n                125.0],\n               32]],\n             'E:/Project/Train/ZippoOil/Single_Default/H_2707.99-1000_01_006.png': [[[748.0,\n                521.0,\n                126.0,\n                80.0],\n               32]],\n             'E:/Project/Train/ZippoOil/Single_Default/H_2707.99-1000_01_007.png': [[[624.0,\n                632.0,\n                122.0,\n                79.0],\n               32]],\n             'E:/Project/Train/ZippoOil/Single_Default/H_2707.99-1000_01_008.png': [[[933.0,\n                633.0,\n                123.0,\n                78.0],\n               32]],\n             'E:/Project/Train/ZippoOil/Single_Default/H_2707.99-1000_01_009.png': [[[701.0,\n                379.0,\n                64.0,\n                147.0],\n               32]],\n             'E:/Project/Train/ZippoOil/Single_Default/H_2707.99-1000_01_010.png': [[[918.0,\n                381.0,\n                63.0,\n                143.0],\n               32]],\n             'E:/Project/Train/ZippoOil/Single_Default/H_2707.99-1000_01_011.png': [[[798.0,\n                294.0,\n                116.0,\n                80.0],\n               32]],\n             'E:/Project/Train/ZippoOil/Single_Default/H_2707.99-1000_01_012.png': [[[945.0,\n                486.0,\n                116.0,\n                111.0],\n               32]],\n             'E:/Project/Train/ZippoOil/Single_Default/H_2707.99-1000_01_013.png': [[[874.0,\n                400.0,\n                122.0,\n                71.0],\n               32]],\n             'E:/Project/Train/ZippoOil/Single_Default/H_2707.99-1000_01_014.png': [[[682.0,\n                401.0,\n                123.0,\n                70.0],\n               32]],\n             'E:/Project/Train/ZippoOil/Single_Other/H_2707.99-1000_01_015.png': [[[909.0,\n                508.0,\n                76.0,\n                140.0],\n               32]],\n             'E:/Project/Train/ZippoOil/Single_Other/H_2707.99-1000_01_016.png': [[[839.0,\n                570.0,\n                84.0,\n                134.0],\n               32]],\n             'E:/Project/Train/ZippoOil/Single_Other/H_2707.99-1000_01_017.png': [[[756.0,\n                570.0,\n                85.0,\n                131.0],\n               32]],\n             'E:/Project/Train/ZippoOil/Single_Other/H_2707.99-1000_01_018.png': [[[750.0,\n                360.0,\n                92.0,\n                122.0],\n               32]],\n             'E:/Project/Train/ZippoOil/Single_Other/H_2707.99-1000_01_019.png': [[[658.0,\n                524.0,\n                111.0,\n                113.0],\n               32]],\n             'E:/Project/Train/ZippoOil/Single_Other/H_2707.99-1000_01_020.png': [[[912.0,\n                522.0,\n                113.0,\n                115.0],\n               32]],\n             'E:/Project/Train/ZippoOil/Single_Other/H_2707.99-1000_01_021.png': [[[768.0,\n                339.0,\n                92.0,\n                125.0],\n               32]],\n             'E:/Project/Train/ZippoOil/Single_Other/H_2707.99-1000_01_022.png': [[[929.0,\n                474.0,\n                125.0,\n                96.0],\n               32]],\n             'E:/Project/Train/ZippoOil/Single_Other/H_2707.99-1000_01_023.png': [[[747.0,\n                385.0,\n                50.0,\n                152.0],\n               32]],\n             'E:/Project/Train/ZippoOil/Single_Other/H_2707.99-1000_01_024.png': [[[717.0,\n                553.0,\n                58.0,\n                151.0],\n               32]],\n             'E:/Project/Train/ZippoOil/Single_Other/H_2707.99-1000_01_025.png': [[[648.0,\n                462.0,\n                120.0,\n                99.0],\n               32]],\n             'E:/Project/Train/ZippoOil/Single_Other/H_2707.99-1000_01_026.png': [[[914.0,\n                461.0,\n                117.0,\n                102.0],\n               32]],\n             'E:/Project/Train/ZippoOil/Single_Other/H_2707.99-1000_01_027.png': [[[704.0,\n                577.0,\n                59.0,\n                157.0],\n               32]],\n             'E:/Project/Train/ZippoOil/Single_Other/H_2707.99-1000_01_028.png': [[[917.0,\n                574.0,\n                58.0,\n                158.0],\n               32]],\n             'E:/Project/Train/ZippoOil/Multiple_Other/H_2707.99-1000_01_029.png': [[[628.0,\n                521.0,\n                115.0,\n                105.0],\n               32],\n              [[960.0, 419.0, 100.0, 124.0], 32]],\n             'E:/Project/Train/ZippoOil/Multiple_Other/H_2707.99-1000_01_030.png': [[[620.0,\n                420.0,\n                99.0,\n                124.0],\n               32],\n              [[935.0, 521.0, 116.0, 105.0], 32]],\n             'E:/Project/Train/ZippoOil/Multiple_Other/H_2707.99-1000_01_031.png': [[[808.0,\n                575.0,\n                108.0,\n                125.0],\n               32],\n              [[971.0, 524.0, 121.0, 83.0], 32]],\n             'E:/Project/Train/ZippoOil/Multiple_Other/H_2707.99-1000_01_032.png': [[[588.0,\n                521.0,\n                121.0,\n                87.0],\n               32],\n              [[764.0, 574.0, 108.0, 125.0], 32]],\n             'E:/Project/Train/ZippoOil/Multiple_Other/H_2707.99-1000_01_033.png': [[[641.0,\n                595.0,\n                119.0,\n                85.0],\n               32],\n              [[794.0, 376.0, 60.0, 137.0], 32]],\n             'E:/Project/Train/ZippoOil/Multiple_Other/H_2707.99-1000_01_034.png': [[[827.0,\n                376.0,\n                58.0,\n                137.0],\n               32],\n              [[921.0, 594.0, 119.0, 87.0], 32]],\n             'E:/Project/Train/ZippoOil/Multiple_Other/H_2707.99-1000_01_035.png': [[[557.0,\n                596.0,\n                103.0,\n                114.0],\n               32],\n              [[900.0, 612.0, 117.0, 59.0], 32]],\n             'E:/Project/Train/ZippoOil/Multiple_Other/H_2707.99-1000_01_036.png': [[[664.0,\n                613.0,\n                116.0,\n                59.0],\n               32],\n              [[1020.0, 598.0, 105.0, 115.0], 32]],\n             'E:/Project/Train/ZippoOil/Multiple_Other/H_2707.99-1000_01_037.png': [[[722.0,\n                487.0,\n                159.0,\n                188.0],\n               32],\n              [[865.0, 405.0, 59.0, 148.0], 32]],\n             'E:/Project/Train/ZippoOil/Multiple_Other/H_2707.99-1000_01_038.png': [[[757.0,\n                403.0,\n                61.0,\n                148.0],\n               32],\n              [[800.0, 490.0, 160.0, 185.0], 32]],\n             'E:/Project/Train/ZippoOil/Multiple_Other/H_2707.99-1000_01_039.png': [[[663.0,\n                289.0,\n                155.0,\n                142.0],\n               32],\n              [[717.0, 544.0, 121.0, 99.0], 32]],\n             'E:/Project/Train/ZippoOil/Multiple_Other/H_2707.99-1000_01_040.png': [[[859.0,\n                290.0,\n                159.0,\n                141.0],\n               32],\n              [[842.0, 544.0, 122.0, 100.0], 32]],\n             'E:/Project/Train/ZippoOil/Multiple_Other/H_2707.99-1000_01_041.png': [[[897.0,\n                431.0,\n                152.0,\n                108.0],\n               32],\n              [[698.0, 383.0, 95.0, 134.0], 32]],\n             'E:/Project/Train/ZippoOil/Multiple_Other/H_2707.99-1000_01_042.png': [[[632.0,\n                430.0,\n                153.0,\n                108.0],\n               32],\n              [[886.0, 381.0, 96.0, 139.0], 32]],\n             'E:/Project/Train/ZippoOil/Multiple_Other/H_2707.99-1000_01_043.png': [[[735.0,\n                486.0,\n                94.0,\n                191.0],\n               32],\n              [[794.0, 365.0, 89.0, 130.0], 32]],\n             'E:/Project/Train/ZippoOil/Multiple_Other/H_2707.99-1000_01_044.png': [[[798.0,\n                366.0,\n                89.0,\n                128.0],\n               32],\n              [[851.0, 486.0, 93.0, 192.0], 32]],\n             'E:/Project/Train/ZippoOil/Multiple_Other/H_2707.99-1000_01_045.png': [[[782.0,\n                385.0,\n                119.0,\n                94.0],\n               32],\n              [[943.0, 351.0, 86.0, 131.0], 32]],\n             'E:/Project/Train/ZippoOil/Multiple_Other/H_2707.99-1000_01_046.png': [[[652.0,\n                351.0,\n                87.0,\n                131.0],\n               32],\n              [[778.0, 383.0, 121.0, 96.0], 32]],\n             'E:/Project/Train/ZippoOil/Multiple_Other/H_2707.99-1000_01_047.png': [[[700.0,\n                550.0,\n                70.0,\n                157.0],\n               32],\n              [[770.0, 587.0, 96.0, 146.0], 32]],\n             'E:/Project/Train/ZippoOil/Multiple_Other/H_2707.99-1000_01_048.png': [[[816.0,\n                588.0,\n                94.0,\n                144.0],\n               32],\n              [[910.0, 551.0, 70.0, 152.0], 32]],\n             'E:/Project/Train/ZippoOil/Multiple_Other/H_2707.99-1000_01_049.png': [[[791.0,\n                384.0,\n                63.0,\n                134.0],\n               32],\n              [[907.0, 485.0, 95.0, 131.0], 32]],\n             'E:/Project/Train/ZippoOil/Multiple_Other/H_2707.99-1000_01_050.png': [[[679.0,\n                484.0,\n                94.0,\n                135.0],\n               32],\n              [[824.0, 383.0, 66.0, 136.0], 32]],\n             'E:/Project/Train/ZippoOil/Multiple_Other/H_2707.99-1000_01_051.png': [[[725.0,\n                545.0,\n                158.0,\n                125.0],\n               32],\n              [[885.0, 430.0, 110.0, 109.0], 32]],\n             'E:/Project/Train/ZippoOil/Multiple_Other/H_2707.99-1000_01_052.png': [[[685.0,\n                430.0,\n                111.0,\n                108.0],\n               32],\n              [[797.0, 546.0, 157.0, 124.0], 32]],\n             'E:/Project/Train/ZippoOil/Multiple_Other/H_2707.99-1000_01_053.png': [[[534.0,\n                544.0,\n                124.0,\n                76.0],\n               32],\n              [[649.0, 476.0, 113.0, 186.0], 32]],\n             'E:/Project/Train/ZippoOil/Multiple_Other/H_2707.99-1000_01_054.png': [[[920.0,\n                477.0,\n                112.0,\n                184.0],\n               32],\n              [[1022.0, 543.0, 122.0, 75.0], 32]],\n             'E:/Project/Train/ZippoOil/Multiple_Other/H_2707.99-1000_01_055.png': [[[691.0,\n                439.0,\n                112.0,\n                112.0],\n               32],\n              [[802.0, 473.0, 150.0, 189.0], 32]],\n             'E:/Project/Train/ZippoOil/Multiple_Other/H_2707.99-1000_01_056.png': [[[730.0,\n                472.0,\n                147.0,\n                191.0],\n               32],\n              [[877.0, 438.0, 111.0, 113.0], 32]],\n             'E:/Project/Train/ZippoOil/Multiple_Categories/H_2707.99-1000_01_057.png': [[[849.0,\n                554.0,\n                118.0,\n                106.0],\n               32],\n              [[843.0, 336.0, 113.0, 92.0], 32],\n              [[697.0, 409.0, 104.0, 256.0], 34],\n              [[808.0, 393.0, 123.0, 155.0], 22]],\n             'E:/Project/Train/ZippoOil/Multiple_Categories/H_2707.99-1000_01_058.png': [[[712.0,\n                555.0,\n                118.0,\n                105.0],\n               32],\n              [[724.0, 335.0, 114.0, 92.0], 32],\n              [[878.0, 409.0, 104.0, 256.0], 34],\n              [[748.0, 394.0, 124.0, 153.0], 22]],\n             'E:/Project/Train/ZippoOil/Multiple_Categories/H_2707.99-1000_01_059.png': [[[745.0,\n                470.0,\n                152.0,\n                237.0],\n               34],\n              [[874.0, 512.0, 155.0, 116.0], 22],\n              [[857.0, 522.0, 69.0, 152.0], 32],\n              [[926.0, 465.0, 118.0, 105.0], 32]],\n             'E:/Project/Train/ZippoOil/Multiple_Categories/H_2707.99-1000_01_060.png': [[[638.0,\n                465.0,\n                117.0,\n                104.0],\n               32],\n              [[755.0, 523.0, 69.0, 150.0], 32],\n              [[782.0, 468.0, 154.0, 242.0], 34],\n              [[650.0, 510.0, 157.0, 115.0], 22]],\n             'E:/Project/Train/ZippoOil/Multiple_Categories/H_2707.99-1000_01_061.png': [[[687.0,\n                506.0,\n                117.0,\n                80.0],\n               32],\n              [[644.0, 398.0, 115.0, 114.0], 32],\n              [[753.0, 379.0, 166.0, 56.0], 22],\n              [[830.0, 409.0, 134.0, 233.0], 34]],\n             'E:/Project/Train/ZippoOil/Multiple_Categories/H_2707.99-1000_01_062.png': [[[876.0,\n                504.0,\n                115.0,\n                83.0],\n               32],\n              [[923.0, 398.0, 114.0, 115.0], 32],\n              [[760.0, 378.0, 170.0, 59.0], 22],\n              [[714.0, 407.0, 137.0, 235.0], 34]],\n             'E:/Project/Train/ZippoOil/Multiple_Categories/H_2707.99-1000_01_063.png': [[[741.0,\n                469.0,\n                161.0,\n                114.0],\n               32],\n              [[977.0, 548.0, 83.0, 130.0], 32],\n              [[1066.0, 472.0, 96.0, 144.0], 28],\n              [[890.0, 455.0, 66.0, 183.0], 22],\n              [[642.0, 432.0, 102.0, 145.0], 20]],\n             'E:/Project/Train/ZippoOil/Multiple_Categories/H_2707.99-1000_01_064.png': [[[619.0,\n                547.0,\n                87.0,\n                135.0],\n               32],\n              [[777.0, 467.0, 161.0, 116.0], 32],\n              [[519.0, 469.0, 96.0, 147.0], 28],\n              [[725.0, 454.0, 66.0, 186.0], 22],\n              [[939.0, 433.0, 99.0, 143.0], 20]],\n             'E:/Project/Train/ZippoOil/Multiple_Categories/H_2707.99-1000_01_065.png': [[[711.0,\n                461.0,\n                127.0,\n                136.0],\n               28],\n              [[678.0, 579.0, 163.0, 68.0], 22],\n              [[858.0, 375.0, 153.0, 55.0], 20],\n              [[566.0, 417.0, 76.0, 136.0], 32],\n              [[1056.0, 466.0, 125.0, 177.0], 32]],\n             'E:/Project/Train/ZippoOil/Multiple_Categories/H_2707.99-1000_01_066.png': [[[501.0,\n                466.0,\n                125.0,\n                176.0],\n               32],\n              [[1039.0, 418.0, 75.0, 139.0], 32],\n              [[843.0, 461.0, 126.0, 137.0], 28],\n              [[670.0, 375.0, 151.0, 54.0], 20],\n              [[839.0, 578.0, 164.0, 69.0], 22]],\n             'E:/Project/Train/ZippoOil/Multiple_Categories/H_2707.99-1000_01_067.png': [[[605.0,\n                411.0,\n                100.0,\n                114.0],\n               32],\n              [[1034.0, 412.0, 135.0, 181.0], 32],\n              [[982.0, 454.0, 109.0, 149.0], 28],\n              [[883.0, 399.0, 89.0, 163.0], 22],\n              [[881.0, 617.0, 151.0, 65.0], 20]],\n             'E:/Project/Train/ZippoOil/Multiple_Categories/H_2707.99-1000_01_068.png': [[[514.0,\n                415.0,\n                134.0,\n                178.0],\n               32],\n              [[978.0, 413.0, 96.0, 116.0], 32],\n              [[589.0, 456.0, 106.0, 146.0], 28],\n              [[648.0, 617.0, 152.0, 66.0], 20],\n              [[707.0, 396.0, 92.0, 168.0], 22]],\n             'E:/Project/Train/ZippoOil/Multiple_Categories/H_2707.99-1000_01_069.png': [[[755.0,\n                551.0,\n                96.0,\n                148.0],\n               32],\n              [[682.0, 413.0, 103.0, 122.0], 32],\n              [[878.0, 487.0, 82.0, 190.0], 33],\n              [[886.0, 387.0, 38.0, 142.0], 13],\n              [[710.0, 317.0, 104.0, 38.0], 15]],\n             'E:/Project/Train/ZippoOil/Multiple_Categories/H_2707.99-1000_01_070.png': [[[830.0,\n                553.0,\n                97.0,\n                146.0],\n               32],\n              [[896.0, 411.0, 102.0, 123.0], 32],\n              [[865.0, 316.0, 103.0, 39.0], 15],\n              [[757.0, 387.0, 36.0, 143.0], 13],\n              [[721.0, 488.0, 80.0, 189.0], 33]],\n             'E:/Project/Train/ZippoOil/Multiple_Categories/H_2707.99-1000_01_071.png': [[[703.0,\n                357.0,\n                114.0,\n                108.0],\n               32],\n              [[821.0, 357.0, 122.0, 76.0], 32],\n              [[946.0, 369.0, 83.0, 118.0], 15],\n              [[751.0, 455.0, 120.0, 150.0], 33],\n              [[921.0, 469.0, 29.0, 147.0], 13]],\n             'E:/Project/Train/ZippoOil/Multiple_Categories/H_2707.99-1000_01_072.png': [[[737.0,\n                357.0,\n                123.0,\n                74.0],\n               32],\n              [[865.0, 357.0, 111.0, 107.0], 32],\n              [[810.0, 455.0, 120.0, 151.0], 33],\n              [[731.0, 469.0, 30.0, 146.0], 13],\n              [[652.0, 369.0, 84.0, 116.0], 15]],\n             'E:/Project/Train/ZippoOil/Multiple_Categories/H_2707.99-1000_01_073.png': [[[710.0,\n                286.0,\n                126.0,\n                42.0],\n               32],\n              [[713.0, 572.0, 118.0, 94.0], 32],\n              [[723.0, 489.0, 151.0, 94.0], 33],\n              [[847.0, 357.0, 19.0, 134.0], 13],\n              [[690.0, 366.0, 92.0, 109.0], 15]],\n             'E:/Project/Train/ZippoOil/Multiple_Categories/H_2707.99-1000_01_074.png': [[[845.0,\n                287.0,\n                123.0,\n                43.0],\n               32],\n              [[848.0, 572.0, 119.0, 94.0], 32],\n              [[807.0, 488.0, 151.0, 94.0], 33],\n              [[815.0, 356.0, 18.0, 136.0], 13],\n              [[897.0, 365.0, 95.0, 110.0], 15]],\n             'E:/Project/Train/ZippoOil/Multiple_Categories/H_2707.99-1000_01_075.png': [[[863.0,\n                583.0,\n                115.0,\n                125.0],\n               32],\n              [[1019.0, 596.0, 121.0, 111.0], 32],\n              [[829.0, 337.0, 43.0, 159.0], 33],\n              [[876.0, 542.0, 114.0, 80.0], 13],\n              [[987.0, 425.0, 104.0, 59.0], 15]],\n             'E:/Project/Train/ZippoOil/Multiple_Categories/H_2707.99-1000_01_076.png': [[[588.0,\n                425.0,\n                105.0,\n                58.0],\n               15],\n              [[702.0, 581.0, 117.0, 130.0], 32],\n              [[541.0, 595.0, 117.0, 113.0], 32],\n              [[690.0, 542.0, 115.0, 81.0], 13],\n              [[809.0, 338.0, 41.0, 158.0], 33]],\n             'E:/Project/Train/ZippoOil/Multiple_Categories/H_2707.99-1000_01_077.png': [[[743.0,\n                523.0,\n                124.0,\n                206.0],\n               32],\n              [[898.0, 569.0, 82.0, 153.0], 32],\n              [[804.0, 308.0, 76.0, 191.0], 33],\n              [[864.0, 327.0, 56.0, 37.0], 15]],\n             'E:/Project/Train/ZippoOil/Multiple_Categories/H_2707.99-1000_01_078.png': [[[760.0,\n                328.0,\n                56.0,\n                37.0],\n               15],\n              [[699.0, 569.0, 82.0, 154.0], 32],\n              [[813.0, 524.0, 126.0, 207.0], 32],\n              [[799.0, 310.0, 77.0, 190.0], 33]],\n             'E:/Project/Train/ZippoOil/Multiple_Categories/H_2707.99-1000_01_079.png': [[[727.0,\n                439.0,\n                161.0,\n                138.0],\n               32],\n              [[730.0, 292.0, 121.0, 65.0], 32],\n              [[898.0, 474.0, 159.0, 177.0], 33],\n              [[964.0, 410.0, 49.0, 75.0], 15]],\n             'E:/Project/Train/ZippoOil/Multiple_Categories/H_2707.99-1000_01_080.png': [[[623.0,\n                476.0,\n                159.0,\n                173.0],\n               33],\n              [[829.0, 292.0, 120.0, 66.0], 32],\n              [[793.0, 440.0, 160.0, 137.0], 32],\n              [[668.0, 411.0, 47.0, 74.0], 15]],\n             'E:/Project/Train/ZippoOil/Multiple_Categories/H_2707.99-1000_01_081.png': [[[603.0,\n                371.0,\n                156.0,\n                176.0],\n               32],\n              [[689.0, 607.0, 120.0, 106.0], 32],\n              [[605.0, 485.0, 176.0, 145.0], 33],\n              [[718.0, 550.0, 53.0, 78.0], 15]],\n             'E:/Project/Train/ZippoOil/Multiple_Categories/H_2707.99-1000_01_082.png': [[[871.0,\n                606.0,\n                122.0,\n                106.0],\n               32],\n              [[921.0, 371.0, 156.0, 177.0], 32],\n              [[900.0, 486.0, 175.0, 142.0], 33],\n              [[910.0, 549.0, 52.0, 79.0], 15]],\n             'E:/Project/Train/ZippoOil/Multiple_Categories/H_2707.99-1000_01_083.png': [[[933.0,\n                608.0,\n                155.0,\n                132.0],\n               32],\n              [[734.0, 428.0, 123.0, 58.0], 32],\n              [[842.0, 385.0, 142.0, 188.0], 33],\n              [[1004.0, 407.0, 38.0, 69.0], 15]],\n             'E:/Project/Train/ZippoOil/Multiple_Categories/H_2707.99-1000_01_084.png': [[[590.0,\n                608.0,\n                156.0,\n                130.0],\n               32],\n              [[824.0, 428.0, 122.0, 58.0], 32],\n              [[639.0, 404.0, 39.0, 71.0], 15],\n              [[696.0, 385.0, 143.0, 188.0], 33]],\n             'E:/Project/Train/ZippoOil/Multiple_Categories/H_2707.99-1000_01_085.png': [[[764.0,\n                525.0,\n                122.0,\n                72.0],\n               32],\n              [[861.0, 316.0, 115.0, 87.0], 32],\n              [[703.0, 436.0, 139.0, 96.0], 28],\n              [[875.0, 415.0, 138.0, 56.0], 13],\n              [[811.0, 439.0, 68.0, 66.0], 15]],\n             'E:/Project/Train/ZippoOil/Multiple_Categories/H_2707.99-1000_01_086.png': [[[704.0,\n                315.0,\n                115.0,\n                89.0],\n               32],\n              [[791.0, 523.0, 127.0, 74.0], 32],\n              [[841.0, 437.0, 137.0, 95.0], 28],\n              [[666.0, 415.0, 139.0, 55.0], 13],\n              [[801.0, 439.0, 68.0, 66.0], 15]],\n             'E:/Project/Train/ZippoOil/Multiple_Categories/H_2707.99-1000_01_087.png': [[[960.0,\n                580.0,\n                74.0,\n                149.0],\n               32],\n              [[835.0, 481.0, 113.0, 121.0], 32],\n              [[980.0, 481.0, 132.0, 84.0], 28],\n              [[801.0, 460.0, 38.0, 170.0], 13],\n              [[877.0, 461.0, 68.0, 68.0], 15]],\n             'E:/Project/Train/ZippoOil/Multiple_Categories/H_2707.99-1000_01_088.png': [[[731.0,\n                480.0,\n                115.0,\n                125.0],\n               32],\n              [[644.0, 579.0, 78.0, 151.0], 32],\n              [[569.0, 479.0, 133.0, 86.0], 28],\n              [[736.0, 462.0, 67.0, 66.0], 15],\n              [[839.0, 459.0, 40.0, 170.0], 13]],\n             'E:/Project/Train/ZippoOil/Multiple_Categories/H_2707.99-1000_01_089.png': [[[691.0,\n                363.0,\n                109.0,\n                112.0],\n               32],\n              [[750.0, 367.0, 105.0, 128.0], 32],\n              [[660.0, 490.0, 108.0, 171.0], 28],\n              [[790.0, 474.0, 135.0, 59.0], 13],\n              [[785.0, 510.0, 68.0, 59.0], 15]],\n             'E:/Project/Train/ZippoOil/Multiple_Categories/H_2707.99-1000_01_090.png': [[[823.0,\n                368.0,\n                105.0,\n                125.0],\n               32],\n              [[888.0, 362.0, 99.0, 112.0], 32],\n              [[911.0, 490.0, 106.0, 173.0], 28],\n              [[754.0, 473.0, 138.0, 59.0], 13],\n              [[826.0, 508.0, 69.0, 60.0], 15]],\n             'E:/Project/Train/ZippoOil/Multiple_Categories/H_2707.99-1000_01_091.png': [[[826.0,\n                519.0,\n                77.0,\n                144.0],\n               32],\n              [[897.0, 486.0, 82.0, 144.0], 32],\n              [[954.0, 417.0, 123.0, 160.0], 28],\n              [[855.0, 333.0, 68.0, 60.0], 15],\n              [[821.0, 404.0, 142.0, 41.0], 13]],\n             'E:/Project/Train/ZippoOil/Multiple_Categories/H_2707.99-1000_01_092.png': [[[702.0,\n                484.0,\n                83.0,\n                146.0],\n               32],\n              [[776.0, 519.0, 77.0, 144.0], 32],\n              [[603.0, 415.0, 126.0, 166.0], 28],\n              [[714.0, 403.0, 143.0, 40.0], 13],\n              [[755.0, 332.0, 68.0, 59.0], 15]],\n             'E:/Project/Train/ZippoOil/Multiple_Categories/H_2707.99-1000_01_463.png': [[[849.0,\n                353.0,\n                118.0,\n                107.0],\n               32],\n              [[843.0, 586.0, 113.0, 92.0], 32],\n              [[697.0, 349.0, 104.0, 256.0], 34],\n              [[808.0, 465.0, 123.0, 156.0], 22]],\n             'E:/Project/Train/ZippoOil/Multiple_Categories/H_2707.99-1000_01_464.png': [[[713.0,\n                354.0,\n                117.0,\n                105.0],\n               32],\n              [[724.0, 587.0, 115.0, 92.0], 32],\n              [[878.0, 349.0, 104.0, 256.0], 34],\n              [[749.0, 467.0, 123.0, 153.0], 22]],\n             'E:/Project/Train/ZippoOil/Multiple_Categories/H_2707.99-1000_01_465.png': [[[746.0,\n                307.0,\n                151.0,\n                236.0],\n               34],\n              [[874.0, 386.0, 155.0, 116.0], 22],\n              [[857.0, 340.0, 69.0, 152.0], 32],\n              [[926.0, 444.0, 118.0, 105.0], 32]],\n             'E:/Project/Train/ZippoOil/Multiple_Categories/H_2707.99-1000_01_466.png': [[[638.0,\n                444.0,\n                117.0,\n                105.0],\n               32],\n              [[755.0, 341.0, 69.0, 150.0], 32],\n              [[782.0, 304.0, 154.0, 242.0], 34],\n              [[650.0, 389.0, 158.0, 115.0], 22]],\n             'E:/Project/Train/ZippoOil/Multiple_Categories/H_2707.99-1000_01_467.png': [[[687.0,\n                428.0,\n                117.0,\n                79.0],\n               32],\n              [[644.0, 502.0, 115.0, 114.0], 32],\n              [[753.0, 579.0, 166.0, 56.0], 22],\n              [[830.0, 372.0, 134.0, 233.0], 34]],\n             'E:/Project/Train/ZippoOil/Multiple_Categories/H_2707.99-1000_01_468.png': [[[876.0,\n                427.0,\n                115.0,\n                83.0],\n               32],\n              [[923.0, 501.0, 114.0, 115.0], 32],\n              [[760.0, 577.0, 170.0, 59.0], 22],\n              [[714.0, 372.0, 137.0, 234.0], 34]],\n             'E:/Project/Train/ZippoOil/Multiple_Categories/H_2707.99-1000_01_469.png': [[[741.0,\n                431.0,\n                161.0,\n                115.0],\n               32],\n              [[977.0, 335.0, 83.0, 131.0], 32],\n              [[1066.0, 398.0, 96.0, 144.0], 28],\n              [[890.0, 376.0, 66.0, 183.0], 22],\n              [[642.0, 437.0, 102.0, 145.0], 20]],\n             'E:/Project/Train/ZippoOil/Multiple_Categories/H_2707.99-1000_01_470.png': [[[619.0,\n                332.0,\n                87.0,\n                135.0],\n               32]]})"
     },
     "execution_count": 13,
     "metadata": {},
     "output_type": "execute_result"
    }
   ],
   "source": [
    "bbox"
   ],
   "metadata": {
    "collapsed": false,
    "pycharm": {
     "name": "#%%\n"
    }
   }
  },
  {
   "cell_type": "code",
   "execution_count": null,
   "outputs": [
    {
     "name": "stderr",
     "output_type": "stream",
     "text": [
      " 34%|███▍      | 34/100 [05:10<03:17,  2.99s/it]"
     ]
    }
   ],
   "source": [
    "for idx, key in enumerate(tqdm(bbox.keys())):\n",
    "    if idx ==99:\n",
    "        break\n",
    "    img = Image.open(key)\n",
    "    infos = bbox[key]\n",
    "    draw = ImageDraw.Draw(img)\n",
    "    out = key.replace(img_check_folder, output)\n",
    "    dir = os.path.dirname(out)\n",
    "    if os.path.exists(dir) is False:\n",
    "        os.makedirs(dir)\n",
    "    for info in infos:\n",
    "        x1, y1, x2, y2 = info[0][0], info[0][1], info[0][2], info[0][3]\n",
    "        xmin = x1\n",
    "        xmax = x1 + x2\n",
    "        ymin = y1\n",
    "        ymax = y1 + y2\n",
    "        rect = [xmin, ymin, xmax, ymax]\n",
    "        draw.rectangle(rect, outline='red', width=3)\n",
    "    img.show()\n",
    "    #img.save(out, 'PNG')"
   ],
   "metadata": {
    "collapsed": false,
    "pycharm": {
     "name": "#%%\n",
     "is_executing": true
    }
   }
  },
  {
   "cell_type": "code",
   "execution_count": 17,
   "outputs": [
    {
     "name": "stdout",
     "output_type": "stream",
     "text": [
      "loading annotations into memory...\n",
      "Done (t=13.76s)\n",
      "creating index...\n",
      "index created!\n"
     ]
    },
    {
     "name": "stderr",
     "output_type": "stream",
     "text": [
      "100%|██████████| 665932/665932 [00:04<00:00, 154143.53it/s]\n"
     ]
    }
   ],
   "source": [
    "images_dir_path, json_file_path = check_dir('local_c')\n",
    "coco = COCO(json_file_path)\n",
    "\n",
    "def make_label(images_dir_path, coco, annotations):\n",
    "    name_box_id = defaultdict(list)\n",
    "    for ant in tqdm(annotations):\n",
    "        id = ant['image_id']\n",
    "        #name = os.path.join(images_dir_path, coco.loadImgs(id)[0]['file_name'])\n",
    "        ann_ids = coco.getAnnIds(imgIds=id)\n",
    "        coco_annotation = coco.loadAnns(ann_ids)\n",
    "        img_info = coco.loadImgs(coco_annotation[0][\"image_id\"])\n",
    "        #cat = coco.getCatIds(catIds=id)\n",
    "        file_path = img_info[0][\"path\"].split('\\\\', maxsplit=7)[-1]\n",
    "        if select_class(file_path, 'Single_Default') is False:\n",
    "            continue\n",
    "        #print(file_path)\n",
    "        if 'Plier' in file_path:\n",
    "            name = os.path.join(images_dir_path, file_path).replace('\\\\', '/')\n",
    "            name_box_id[name].append([(ant['bbox']), ant['category_id']])\n",
    "        else:\n",
    "            continue\n",
    "        #print(name)\n",
    "    #print(name_box_id)\n",
    "    return name_box_id\n",
    "bbox = make_label(images_dir_path, coco, data['annotations'])"
   ],
   "metadata": {
    "collapsed": false,
    "pycharm": {
     "name": "#%%\n"
    }
   }
  },
  {
   "cell_type": "code",
   "execution_count": 20,
   "outputs": [],
   "source": [
    "def label_print_to_img(name_box_id):\n",
    "    fontsize = 14\n",
    "    # outpath = './out/train_imgcheck/'\n",
    "    # curpath = 'D:/Local/Train/Data/'\n",
    "\n",
    "    outpath = 'C:/train_imgcheck/'\n",
    "    curpath = 'C:/Local/Train/Data'\n",
    "\n",
    "    font = ImageFont.truetype(\"arial.ttf\", fontsize)\n",
    "    for idx, key in enumerate(tqdm(name_box_id.keys())):\n",
    "        if 'Single_Default' not in key:\n",
    "            continue\n",
    "        img = Image.open(key)\n",
    "        infos = name_box_id[key]\n",
    "        draw = ImageDraw.Draw(img)\n",
    "        for info in infos:\n",
    "            data = info[0]\n",
    "            class_name = class_id_to_str(info[1])\n",
    "            xmin, ymin, xmax, ymax = data[0], data[1], data[0] + data[2], data[1] + data[3]\n",
    "            rect = [xmin, ymin, xmax, ymax]\n",
    "            label_rect = [xmin + 2, ymin + 1]\n",
    "            draw.rectangle(rect, outline='red', width=3)\n",
    "            draw.text(label_rect, class_name, fill='Blue', font=font)\n",
    "        key = key.replace(curpath, outpath)\n",
    "        path = os.path.split(key)\n",
    "        if os.path.exists(path[0]) is False:\n",
    "            os.makedirs(path[0])\n",
    "        width, height = img.size\n",
    "        ratio = float(height / width)\n",
    "        newheight = int(ratio * 800)\n",
    "        img = img.resize((800, newheight), Image.ANTIALIAS)\n",
    "        img.save(key)"
   ],
   "metadata": {
    "collapsed": false,
    "pycharm": {
     "name": "#%%\n"
    }
   }
  },
  {
   "cell_type": "code",
   "execution_count": 21,
   "outputs": [
    {
     "name": "stderr",
     "output_type": "stream",
     "text": [
      "100%|██████████| 3340/3340 [01:08<00:00, 49.03it/s]\n"
     ]
    }
   ],
   "source": [
    "label_print_to_img(bbox)\n"
   ],
   "metadata": {
    "collapsed": false,
    "pycharm": {
     "name": "#%%\n"
    }
   }
  },
  {
   "cell_type": "code",
   "execution_count": null,
   "outputs": [],
   "source": [],
   "metadata": {
    "collapsed": false,
    "pycharm": {
     "name": "#%%\n"
    }
   }
  }
 ],
 "metadata": {
  "kernelspec": {
   "name": "pycharm-5b874bc4",
   "language": "python",
   "display_name": "PyCharm (TFExams)"
  },
  "language_info": {
   "codemirror_mode": {
    "name": "ipython",
    "version": 2
   },
   "file_extension": ".py",
   "mimetype": "text/x-python",
   "name": "python",
   "nbconvert_exporter": "python",
   "pygments_lexer": "ipython2",
   "version": "2.7.6"
  }
 },
 "nbformat": 4,
 "nbformat_minor": 0
}